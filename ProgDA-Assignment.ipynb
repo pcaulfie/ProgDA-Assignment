{
 "cells": [
  {
   "cell_type": "markdown",
   "metadata": {},
   "source": [
    "# Assignment 2019 - Programming for Data Analysis"
   ]
  },
  {
   "cell_type": "markdown",
   "metadata": {},
   "source": [
    "## Introduction\n",
    "The following assignment concerns the numpy.random package in Python . You are\n",
    "required to create a Jupyter notebook explaining the use of the package, including\n",
    "detailed explanations of at least five of the distributions provided for in the package.\n",
    "There are four distinct tasks to be carried out in your Jupyter notebook.\n",
    "1. Explain the overall purpose of the package.\n",
    "2. Explain the use of the “Simple random data” and “Permutations” functions.\n",
    "3. Explain the use and purpose of at least five “Distributions” functions.\n",
    "4. Explain the use of seeds in generating pseudorandom numbers.\n"
   ]
  },
  {
   "cell_type": "markdown",
   "metadata": {},
   "source": [
    "## Overview of Numpy.Random Package\n",
    "McLoughlin (2019) describes the numpy.random package as a sub-package of the Numpy in Python. The package contains algorithms to generate pseudo-random numbers (Sharpsight, 2019). According to The SciPy community (2019), the numpy.ramdom package generates pseudo-random numbers using a combination of a bit generator and a random generator. The bit generator creates sequences of values and the random generator transforms these sequences into statistical distributions. \n",
    "\n",
    "### What Are Pseudo Random Numbers\n",
    "According to Wolfram Research (2019), a pseudo-random number is the name given to a computer-generated random number. Computer Hope (2019) points out that computer generated random numbers are not properly random, because computers are deterministic by design. Because, when a computer is working properly, it's behaviour is predictable, not random. \n",
    "\n",
    "Rubin (2011) cites an article at MIT’s School of Engineering, which clarifies the meaning of the term deterministic as: “if you ask the same question you’ll get the same answer every time.” To quote Sharpsight (2019) \"give a computer the same input, it will produce the same output.\"\n",
    "\n",
    "Accordinto to Sharpsight (2019), to resolve the problem of generating “random” numbers, algorithms called Pseudo-Random Number Generators which produce numbers which appear to be random.\n",
    "\n",
    "Lets look at some pseudo-random numbers created with the NumPy to see if we can see any pattern."
   ]
  },
  {
   "cell_type": "code",
   "execution_count": 13,
   "metadata": {},
   "outputs": [
    {
     "data": {
      "text/plain": [
       "array([8, 8, 6, 2, 8, 7, 2, 1, 5, 4, 4, 5, 7, 3, 6, 4, 3, 7, 6, 1, 3, 5,\n",
       "       8, 4, 6, 3, 2, 0, 4, 2, 4, 1, 7, 8, 2, 8, 7, 1, 6, 8])"
      ]
     },
     "execution_count": 13,
     "metadata": {},
     "output_type": "execute_result"
    }
   ],
   "source": [
    "# Import Numpy Library as np\n",
    "import numpy as np\n",
    "# create some pseudo-random numbers with the NumPy randint function:\n",
    "# Adapted from Sharpsight (2019)\n",
    "np.random.seed(2)\n",
    "np.random.randint(low = 0, high = 9, size =40)"
   ]
  },
  {
   "cell_type": "markdown",
   "metadata": {},
   "source": [
    "While the numbers above apear to be random, if we run the code again we get the same results."
   ]
  },
  {
   "cell_type": "code",
   "execution_count": 14,
   "metadata": {},
   "outputs": [
    {
     "data": {
      "text/plain": [
       "array([8, 8, 6, 2, 8, 7, 2, 1, 5, 4, 4, 5, 7, 3, 6, 4, 3, 7, 6, 1, 3, 5,\n",
       "       8, 4, 6, 3, 2, 0, 4, 2, 4, 1, 7, 8, 2, 8, 7, 1, 6, 8])"
      ]
     },
     "execution_count": 14,
     "metadata": {},
     "output_type": "execute_result"
    }
   ],
   "source": [
    "# Run code again\n",
    "np.random.seed(2)\n",
    "np.random.randint(low = 0, high = 9, size =40)"
   ]
  },
  {
   "cell_type": "markdown",
   "metadata": {},
   "source": [
    "## Explain the use of the “Simple random data” and “Permutations” functions."
   ]
  },
  {
   "cell_type": "markdown",
   "metadata": {},
   "source": [
    "### Simple Random Data\n",
    "\n",
    "The simple random sample function is used to select a sample of items is chosen randomly from a population, and each item has an equal probability of being chosen. Simple random sampling uses the pseudo-random number generator to select items for its sample. Simple random \n",
    "\n",
    "Systematic sampling involves selecting items from an ordered population using a skip or sampling interval. The use of systematic sampling is more appropriate compared to simple random sampling when a project's budget is tight and requires simplicity in execution and understanding the results of a study. Systematic sampling is better than random sampling when data does not exhibit patterns and there is a low risk of data manipulation by a researcher.\n",
    "\n",
    "\n",
    "* rand(d0, d1, ..., dn)\tcreates an array in a specific shape of random values taken from a uniform distribution between 0 & 1.\n",
    "* randn(d0, d1, ..., dn) generates an array in a specific shape of random values taken from a standard normal distribution between 0 & 1.\n",
    "* randint(low[, high, size, dtype])\tReturns random integers taken from a specified range in a discrete uniform distribution.\n",
    "* random_integers(low[, high, size])\tsimilar to randint above.\n",
    "* random_sample([size])\tReturn random floats in the half-open interval [0.0, 1.0\n",
    "* random([size])\tgenerates random floating-point numbers from a continuous uniform distribution in the range [0.0, 1.0]\n",
    "* ranf([size])\tReturn random floats in the half-open interval [0.0, 1.0).\n",
    "* sample([size])\tReturn random floats in the half-open interval [0.0, 1.0).\n",
    "* choice(a[, size, replace, p])\tGenerates a random sample from a given 1-D array\n",
    "* bytes(length)\tReturn random bytes.\n",
    "\n",
    "Lets looks at examples of 5 simple random functions:"
   ]
  },
  {
   "cell_type": "code",
   "execution_count": 15,
   "metadata": {},
   "outputs": [
    {
     "name": "stdout",
     "output_type": "stream",
     "text": [
      "\n",
      "\n",
      "1D Array filled with random values between 0 :1  : \n",
      " [0.990852   0.1194848  0.14856478 0.85228103 0.50952588]\n",
      "\n",
      "\n",
      "2D Array filled with random values between 0 :1  : \n",
      " [[0.21726993 0.99326629 0.31529748 0.25873317]\n",
      " [0.80917529 0.35367538 0.46784249 0.27417326]]\n",
      "\n",
      "\n",
      "3D Array filled with random values between 0 :1  : \n",
      " [[[0.79820039 0.81413841 0.94809042]\n",
      "  [0.82288464 0.51513912 0.22099815]\n",
      "  [0.74663141 0.43153777 0.88830375]]\n",
      "\n",
      " [[0.9411933  0.50301225 0.70204204]\n",
      "  [0.70654201 0.48102176 0.96031373]\n",
      "  [0.42602253 0.32287421 0.76193   ]]\n",
      "\n",
      " [[0.93262856 0.71121724 0.51743076]\n",
      "  [0.8844716  0.55363384 0.5736425 ]\n",
      "  [0.39393329 0.92654675 0.00554442]]]\n"
     ]
    }
   ],
   "source": [
    "# Example of numpy.random.rand() function adapted from https://onlinecoursetutorials.com/numpy/numpy-random-rand-in-python/\n",
    "# Import numpy library\n",
    "import numpy as np\n",
    " \n",
    "# one dimensional array of 5 numbers between [0,1]\n",
    "d0 = 5 # Initialise paramters for numpy.random.rand() function \n",
    "array1D = np.random.rand(d0) # create array using shape paramters\n",
    "print(\"\\n\\n1D Array filled with random values between 0 :1  : \\n\", array1D); # print array with title\n",
    "\n",
    "# two dimensional arrays of 4 numbers between [0,1]\n",
    "d0 , d1 = 2 , 4 # Initialise paramters for numpy.random.rand() function \n",
    "array2D = np.random.rand(d0 , d1) # create array using shape paramters\n",
    "print(\"\\n\\n2D Array filled with random values between 0 :1  : \\n\", array2D); # print array with title\n",
    "\n",
    "# three dimensional array of three numbers\n",
    "d0 , d1, d2 = 3, 3, 3 # Initialise paramters for numpy.random.rand() function \n",
    "array3D = np.random.rand(d0 , d1, d2) # create array using shape paramters\n",
    "print(\"\\n\\n3D Array filled with random values between 0 :1  : \\n\", array3D); # print array with title"
   ]
  },
  {
   "cell_type": "code",
   "execution_count": 16,
   "metadata": {},
   "outputs": [
    {
     "name": "stdout",
     "output_type": "stream",
     "text": [
      "\n",
      "\n",
      "1D Array filled with random values between 0 :1  : \n",
      " [-0.83750537  1.3266796  -0.581819   -1.2105368  -0.31699082  0.87739894]\n",
      "\n",
      "\n",
      "2D Array filled with random values between 0 :1  : \n",
      " [[ 1.58160763  0.01896191  1.78050841 -1.20095543]\n",
      " [-1.15505568 -1.54344894  0.10479521  0.32965211]\n",
      " [ 0.43293286 -0.30895856  1.35683258  0.43855434]]\n",
      "\n",
      "\n",
      "3D Array filled with random values between 0 :1  : \n",
      " [[[ 0.50148794  0.03442318]\n",
      "  [-0.80344425  2.60059802]]\n",
      "\n",
      " [[ 1.83349636 -1.46082592]\n",
      "  [-0.27384798 -0.81998094]]\n",
      "\n",
      " [[ 0.61927856 -0.57287962]\n",
      "  [ 0.25449869  1.39159298]]]\n"
     ]
    }
   ],
   "source": [
    "# Example of numpy.random.randn() function adapted from https://www.geeksforgeeks.org/numpy-random-randn-python/\n",
    "# Import numpy library\n",
    "import numpy as np\n",
    " \n",
    "# one dimensional array of 6 numbers between [0,1]\n",
    "d0 = 6 # Initialise paramters for numpy.random.randn() function \n",
    "array1D = np.random.randn(d0) # create array using shape paramters\n",
    "print(\"\\n\\n1D Array filled with random values between 0 :1  : \\n\", array1D); # print array with title\n",
    "\n",
    "# two dimensional arrays of 3 sets of 4 numbers between [0,1]\n",
    "d0 , d1 = 3 , 4 # Initialise paramters for numpy.random.randn() function \n",
    "array2D = np.random.randn(d0 , d1) # create array using shape paramters\n",
    "print(\"\\n\\n2D Array filled with random values between 0 :1  : \\n\", array2D); # print array with title\n",
    "\n",
    "# three dimensional array of 2 sets of two numbers numbers\n",
    "d0 , d1, d2 = 3, 2, 2 # Initialise paramters for numpy.random.randn() function \n",
    "array3D = np.random.randn(d0 , d1, d2) # create array using shape paramters\n",
    "print(\"\\n\\n3D Array filled with random values between 0 :1  : \\n\", array3D); # print array with title"
   ]
  },
  {
   "cell_type": "code",
   "execution_count": 26,
   "metadata": {},
   "outputs": [
    {
     "name": "stdout",
     "output_type": "stream",
     "text": [
      "\n",
      "One Random number between 1 and 18 is [10]\n",
      "\n",
      "Two Random numbers between -15 and -3 are [ -5 -14]\n",
      "\n",
      "Three Random numbers between -6 and 6 are [-1  3 -4]\n"
     ]
    }
   ],
   "source": [
    "# Example of numpy.random.randint() function adapted from https://www.geeksforgeeks.org/python-randint-function/\n",
    "# Import numpy library\n",
    "import numpy as np\n",
    "  \n",
    "# Generates 1 random number between a given positive range using parameters low and high\n",
    "low, high, size = (1 , 18 , 1) # Initialise parameters for numpy.random.randint() function\n",
    "r1 = np.random.randint(low, high, size) # create array using parameters\n",
    "print(\"\\nOne Random number between 1 and 18 is % s\" % (r1)) # print array with title\n",
    "\n",
    "# Generates 2 random number between two given negative range using parameters low and high \n",
    "low, high, size = (-15 , -3 , 2) # Initialise parameters for numpy.random.randint() function\n",
    "r2 = np.random.randint(-15, -3, 2) # create array using parameters\n",
    "print(\"\\nTwo Random numbers between -15 and -3 are % s\" % (r2)) # print array with title\n",
    "  \n",
    "# Generates 2 random number between a positive and a negative range using parameters low and high\n",
    "low, high, size = (-6 , 6 , 3) # Initialise parameters for numpy.random.randint() function\n",
    "r3 = np.random.randint(low, high, size) # create array using parameters\n",
    "print(\"\\nThree Random numbers between -6 and 6 are % s\" % (r3)) # print array with title"
   ]
  },
  {
   "cell_type": "code",
   "execution_count": 35,
   "metadata": {},
   "outputs": [
    {
     "name": "stdout",
     "output_type": "stream",
     "text": [
      "\n",
      "Output 1D Array filled with 2 random floats : \n",
      " [0.22030166 0.5628574 ]\n",
      "\n",
      "Output 2D Array filled with 3 random floats : \n",
      " [[0.53946109 0.495362   0.30075307]\n",
      " [0.51144873 0.78622852 0.81250558]]\n",
      "\n",
      "Output 3D Array filled with 4 random floats : \n",
      " [[[0.53284089 0.80633521 0.03427548 0.15406612]\n",
      "  [0.74818503 0.3848699  0.31789849 0.57200881]]\n",
      "\n",
      " [[0.37242052 0.90952991 0.38697123 0.8362492 ]\n",
      "  [0.60176372 0.91201878 0.48405357 0.95851407]]\n",
      "\n",
      " [[0.57670966 0.0277443  0.73887085 0.8614008 ]\n",
      "  [0.09855001 0.96344304 0.56342604 0.74070191]]]\n"
     ]
    }
   ],
   "source": [
    "## Example of numpy.random.random() function adapted from https://www.geeksforgeeks.org/random-sampling-in-numpy-random-function/\n",
    "  \n",
    "# importing numpy \n",
    "import numpy as np \n",
    "\n",
    "# one dimensional array of 2 floating point numbers between [0.00,1.00] \n",
    "size = 2 # Initialise parameters for numpy.random.random() function\n",
    "arr1 = np.random.random(size) # create array using parameters\n",
    "print (\"\\nOutput 1D Array filled with 2 random floats : \\n\", (arr1)) # print array with title\n",
    "\n",
    "# 2 dimensional array of 3 floating point numbers between [0.00,1.00] \n",
    "size = (2 , 3) # Initialise parameters for numpy.random.random() function\n",
    "arr2 = np.random.random(size) # create array using parameters\n",
    "print (\"\\nOutput 2D Array filled with 3 random floats : \\n\", (arr2)) # print array with title\n",
    "\n",
    "# 3 dimensional array of 2 sets of 4 floating point numbers between [0.00,1.00] \n",
    "size = (3, 2, 4) # Initialise parameters for numpy.random.random() function\n",
    "arr3 = np.random.random(size) # create array using parameters\n",
    "print (\"\\nOutput 3D Array filled with 2 sets of 4 random floats : \\n\", (arr3)) # print array with title"
   ]
  },
  {
   "cell_type": "markdown",
   "metadata": {},
   "source": [
    "## Explain the use and purpose of at least five “Distributions” functions."
   ]
  },
  {
   "cell_type": "markdown",
   "metadata": {},
   "source": [
    "### Distributions Function\n",
    "The distributions function is a systematic sampling technique which involves sampling involves selecting items from an ordered population using a skip or sampling interval. According to Blokhim (2015), the use of systematic sampling techniques are more appropriate compared to simple random sampling when there is no pattern in the data, and you want to avoid any bias by the data analyst."
   ]
  },
  {
   "cell_type": "markdown",
   "metadata": {},
   "source": [
    "### NumPy Random Normal Function\n",
    "According to The SciPy community (2018), the NumPy random normal function is used to generate random samples drawn from the Gaussian distribution, commonly known as the normal distribution. \"Normally distributed data is shaped sort of like a bell, so it’s often called the “bell curve.”\"(Sharp Sight 2019).\n",
    "\n",
    "#### When Should The NumPy Random Normal Function Be Used\n",
    "The SciPy community (2018) suggest that normal distributions are most commonly found in nature. To quote Frost (2018) \"the normal distribution is the most important probability distribution in statistics\". \n",
    "\n",
    "In conclusion, the  NumPy random normal function should be used to generate samples where the data you are trying to approximate follows the normal distribution, examples include height, weight, blood pressure and test scores. \n",
    "\n",
    "##### Example\n",
    "I created an example based on heights of Irish males aged 20-49 reported in Wikipedia (2019). In the below example I use NumPy random normal function and Matplotlib library to visualize a sample distribution of heights, using data on average human heights.  The results when plotted, correspond to the bell curve shape.  "
   ]
  },
  {
   "cell_type": "code",
   "execution_count": null,
   "metadata": {},
   "outputs": [],
   "source": [
    "# Adapted from https://stackoverflow.com/q/51175871\n",
    "# Import Libraries\n",
    "import numpy as np\n",
    "import matplotlib.pyplot as plt\n",
    "\n",
    "\n",
    "# Generate ndarray of \"heights\" drawn from a sample of 10000 random numbers taken from a normal distribution - adapted from https://www.sharpsightlabs.com/blog/numpy-random-normal/\n",
    "loc = 177  # refers to mean adult male height in cms\n",
    "scale = 6.3 # refers to height standard deviation in cms\n",
    "size = 10000 # to generate 10000 values\n",
    "heights = [(np.random.normal(loc, scale , size))]\n",
    " \n",
    "\n",
    "#plot histogram using this data\n",
    "num_bins = 50 #number of bins used for histogram\n",
    "count, bins, ignored = plt.hist(heights, num_bins, density = False) \n",
    "\n",
    "# Plot Parameters\n",
    "plt.style.use('seaborn') # use seaborn theme\n",
    "plt.rcParams['figure.figsize'] = (12, 8) # resize the figure\n",
    "plt.xlabel('Height') # Create Label for x Axis\n",
    "plt.ylabel('Frequency') # Create Label for y Axis\n",
    "\n",
    "# Create Title for Plot - adding annotation for mean and standard deviation\n",
    "plt.title('Histogram of Heights: $\\mu=177.5$, $\\sigma=6.3$')\n",
    "plt.show() # show plot"
   ]
  },
  {
   "cell_type": "markdown",
   "metadata": {},
   "source": [
    "### Numpy Random Uniform Function\n",
    "\n",
    "The function np.random.uniform() is used to generate a random sample which follows the uniform continuous distribution.\n",
    "\n",
    "The uniform continuous distribution is also know as rectangular distribution, which is a probability distribution where all outcomes are equally likely to occur; each trial has the same probability of success, Chen (2019). \n",
    "\n",
    "This is like the spinner example. Consider throwing a dart at a dart board. Assuming that all directions are equally likely, the angle of deflection from the x-axis drawn through the bullseye should be uniformly distributed between 0 and 360∘ or 0 and 2π. Rescaling would produce a uniform 0, 1. \n",
    "\n",
    "According to Minitab (2019) continuous variables are variables that have \"an infinite number of values between any two values\" They are usually measured on a scale such as weight, height, temperature,date or time.\n",
    "\n",
    "The properties of the uniform distribution are:\n",
    "* There is no skewness present in the distribution,  Since the datapoints within the interval [a,b] are equally likely, so there is no skewness present in the distribution\n",
    "* the probability associated with each data points within a fixed interval [a,b] is equal. (Kundu, 2018)\n",
    "\n",
    "This distribution is defined by two parameters, a and b:\n",
    "\n",
    "Uniform distributions are probability distributions with equally likely outcomes."
   ]
  },
  {
   "cell_type": "code",
   "execution_count": null,
   "metadata": {},
   "outputs": [],
   "source": [
    "# Example 1: generate 30 random variables, uniformly distributed between -1 and 1 \n",
    "# https://www.geo.fu-berlin.de/en/v/soga/Basics-of-statistics/Continous-Random-Variables/Continuous-Uniform-Distribution/Continuous-Uniform-Distribution-in-R/index.html\n",
    "\n",
    "# Initialise paramters for the function\n",
    "a = 0 # a is the minimum\n",
    "b = 1 # b is the maximum\n",
    "size = 30 # size is the number of samples\n",
    "\n",
    "# create a dataframe called u, which contains an array of 30 random floating point numbers between 0 and 1.\n",
    "u =np.random.uniform(a, b, size)\n",
    "u # print the result\n",
    "# Displays an array of 30 random floating point numbers between 0 and 1."
   ]
  },
  {
   "cell_type": "code",
   "execution_count": null,
   "metadata": {},
   "outputs": [],
   "source": [
    "# Example 2: Spin The Wheel. Each time you spin the lottery wheel, you have an equal chance of the wheel stopping in any of the 100 segments.\n",
    "# The circumference of the wheel is measure on a scale from 0 to 360 degrees, each segment is 3.6 degrees wide.  \n",
    "# One segment which is located from 0 to 3.6 degrees contains the 500,000 jackpot\n",
    "# What is the probability of spinning the wheel and landing on the jackpot segment?\n",
    "\n",
    "# Solution adapted from https://appliedmachinelearning.blog/2018/08/31/lets-talk-about-numeric-distributions-python/\n",
    "# Import libraries as needed\n",
    "import pandas as pd\n",
    "import matplotlib.pyplot as plt\n",
    "import seaborn as sns\n",
    "\n",
    "#Initialise the parameters a, b and sample size\n",
    "a = 0 # a is the minimum 0 degrees on a wheel\n",
    "b = 360 # b is the maximum 360 degree on a wheel\n",
    "size = 1000 # sample size is the number of spins\n",
    "# create a dataframe called unidist, \n",
    "unidist=np.random.uniform(a, b, size)\n",
    "\n",
    "# Create a figure to visualize the distribution\n",
    "plt.subplots(figsize=(15,10)) # resize plot to 15 x 10\n",
    "plt.xlabel('Degrees') # Label x Axis \n",
    "plt.ylabel('Probability') # Label y Axis \n",
    "# create histogram called plot from dataframe unidist, set titles equal to value of a & b\n",
    "plot=sns.distplot(pd.DataFrame(unidist)).set_title('Uniform Distribution with $a$=%.1f and $b$=%.1f'%(a,b))\n",
    "fig=plot.get_figure() # show plot"
   ]
  },
  {
   "cell_type": "code",
   "execution_count": null,
   "metadata": {},
   "outputs": [],
   "source": [
    "# Estimate what is the probability of stopping on the 500,000 segment \n",
    "# Solution adapted from https://github.com/WillKoehrsen/Data-Analysis/blob/master/poisson/poisson.ipynb\n",
    "# create variable called prob which is the probability of the wheel stopping between 0 and 3.6 degrees\n",
    "prob = (unidist <= 3.6).mean()\n",
    "# format result as % with 2 places decimals - adapted from https://stackoverflow.com/a/5306788\n",
    "print(f\"{prob:.2%}\")\n",
    "# Answer"
   ]
  },
  {
   "cell_type": "markdown",
   "metadata": {},
   "source": [
    "### Numpy Random Binomial Function\n",
    "The np.random.binomial function returns an array of random sample from a population using a binomial distribution based on the parameters, Jephos249 (2018):\n",
    "* n, where n is the number of trials or samples per observation.\n",
    "* p, where p is the probability of success of each trial. P is a floating point number which is  >= 0 and <=1.\n",
    "* size, where size is the number of observations (ie experiments or tests conducted).\n",
    "\n",
    "\n",
    "#### When Should The NumPy Random Binomial Function Be Used\n",
    "The SciPy Community (2018) suggest that binomial distribution should be used instead of the normal distribution when \"the product p x n <=5, where p = population proportion estimate, and n = number of samples\". This function can be used to model real world processes which can be easily categorised into pass / fail trials. For example, when you toss a coin multiple times, how many times will it land on its head. Other use cases include the probability of success in oil exploration, estimating the number of defects in a production line or the odds of a penalty being saved in a football match.\n",
    "\n",
    "For example, cmdline (2018) suggests that the binomial function is appropriate function to use to simulate a coin toss experiment. Where n is the number of times you toss a coin, where the probability of getting head each coin toss is p. Assuming  you toss a coint 10 times, and you get 5 heads and 5 tails. Therefore the probability of getting head at each coin toss (p) is 5 / 10 = 0.5. To test if the binomial distribution should be used we multipy p x n ie 0.5 x 10 = 5, since p x n <=5, we can conclude that the binomial distribution should be used in this case.\n",
    "\n",
    "#### Example of Toin Coss Experiment Using The NumPy Random Binomial Function"
   ]
  },
  {
   "cell_type": "code",
   "execution_count": null,
   "metadata": {},
   "outputs": [],
   "source": [
    "# This program simulates a toin coss experiment and returns the number of heads observed if you toss a coin 10 times.\n",
    "# Adapted from https://cmdlinetips.com/2018/12/simulating-coin-toss-experiment-with-binomial-random-numbers-using-numpy/\n",
    "\n",
    "# n = 10, the number of times coin is tossed in one experiment ie 10 times\n",
    "# p = 0.5 (probability of heads)\n",
    "# Adapted from https://discuss.codecademy.com/t/what-does-the-np-random-binomial-function-return/361162\n",
    "heads = np.random.binomial(10, 0.5) \n",
    "heads\n",
    "# The result returned is the number of heads returned from 1 experiment from the distribution"
   ]
  },
  {
   "cell_type": "code",
   "execution_count": null,
   "metadata": {},
   "outputs": [],
   "source": [
    "# This program tests how reliable the coin toss experiment is when you repeat it the experiment multiple times\n",
    "# Adapted from https://cmdlinetips.com/2018/12/simulating-coin-toss-experiment-with-binomial-random-numbers-using-numpy/\n",
    "\n",
    "# n = 10, the number of times coin is tossed in one experiment ie 10 times\n",
    "# p = 0.5 (probability of heads)\n",
    "# size = 100 (number of experiments)\n",
    "\n",
    "# Adapted from https://discuss.codecademy.com/t/what-does-the-np-random-binomial-function-return/361162\n",
    "heads = np.random.binomial(10, 0.5, size=100) \n",
    "# Print array of results\n",
    "heads\n",
    "# The result returned is the number of heads returned from 100 randomly selected experiments from the distribution."
   ]
  },
  {
   "cell_type": "code",
   "execution_count": null,
   "metadata": {},
   "outputs": [],
   "source": [
    "# Estimate what is the probability of returning 4 heads when the experiment is conducted 100 times \n",
    "# adapted fromhttps://docs.scipy.org/doc/numpy-1.14.0/reference/generated/numpy.random.binomial.html#numpy.random.binomial\n",
    "\n",
    "# Probability = count of the number of times that each experiment returns 4 heads, divided by the number of experiments experiments (100)\n",
    "prob = sum(np.random.binomial(10, 0.5, size=100) ==4)/100\n",
    "# format result as % with 2 places decimals - adapted from https://stackoverflow.com/a/5306788\n",
    "print(f\"{prob:.2%}\")\n",
    "# Answer"
   ]
  },
  {
   "cell_type": "markdown",
   "metadata": {},
   "source": [
    "### Numpy Random Poisson Function\n",
    "The numpy.random.poisson function generates random samples using the poisson distribution (Penn State University 2018). Kundu (2018) describes the poisson distribution as a distribution which models the probability of the frequency of an event occurring in a fixed period of time or space. \n",
    "\n",
    "The numpy.random.poisson is more appropriate to use instead of the numpy.random.binomial function, when the number of trials (n) taken from an observation is very large and where the probability the event occurring (p) is very small of each trial, such that *p* x *n* becomes lambda| λ | (constant) (Kundu, 2018).\n",
    " \n",
    "An example of this scenario can be found in a call center, where the number of calls received in a week is very large and the time pattern when calls arrive is random, but the probability of receiving a call at any given minute is very small, so that the average number of calls per minute is constant. \n",
    "\n",
    "Let's work through an example."
   ]
  },
  {
   "cell_type": "code",
   "execution_count": null,
   "metadata": {},
   "outputs": [],
   "source": [
    "# Poisson Distribution - adapted fom https://github.com/WillKoehrsen/Data-Analysis/blob/master/poisson/poisson.ipynb\n",
    "import seaborn as sns\n",
    "import pandas as pd\n",
    "#Define the parameters lam & size - adapted from https://docs.scipy.org/doc/numpy-1.14.0/reference/generated/numpy.random.poisson.html#numpy.random.poisson\n",
    "calls_per_second = 1/15 # on average 1 call received every 15 seconds\n",
    "seconds = 60 # interval length = 60 seconds\n",
    "size = 10000 # number of observations\n",
    "# Define lam paramter: number of events/interval * interval length (Koehrsen, 2019)\n",
    "lam = calls_per_second * seconds\n",
    "calls = np.random.poisson(lam, size)\n",
    "# Plot probability distribution as a histogram - adapted from https://appliedmachinelearning.blog/2018/08/31/lets-talk-about-numeric-distributions-python/\n",
    "plot=sns.distplot(pd.DataFrame(calls)).set_title('Poisson Distribution with $\\lambda$=%.1f and $k$=%.1f'%(lam,size))\n",
    "fig=plot.get_figure()\n"
   ]
  },
  {
   "cell_type": "code",
   "execution_count": null,
   "metadata": {},
   "outputs": [],
   "source": [
    "# Estimate probability of receiving more than 7 calls in 60 seconds.\n",
    "# Solution adapted from https://github.com/WillKoehrsen/Data-Analysis/blob/master/poisson/poisson.ipynb\n",
    "# recall function\n",
    "calls = np.random.poisson(lam, size)\n",
    "# return probability that random distribution will have a mean >=8\n",
    "prob = (calls >= 7).mean()\n",
    "# format result as % with 2 places decimals - adapted from https://stackoverflow.com/a/5306788\n",
    "print(f\"{prob:.2%}\")\n",
    "# Answer"
   ]
  },
  {
   "cell_type": "markdown",
   "metadata": {},
   "source": [
    "### Numpy Random Gamma Function\n",
    "The np.random.gamma function is used to generate random samples which follows gamma distribution. The gamma distribution is commonly used to model continous variables, where the variables are numeric, greater than zero and have skewed distributions. The gamma distribution is useful because of the flexibility of its parameters: shape and scale. The scale parameter determines where range of the distribution and the shape parameter controls how the distribution will look. (Kundu, 2018)\n",
    "\n",
    "According to Minitab (2019) continuous variables are variables that have \"an infinite number of values between any two values\"  They are usually measured on a scale such as weight, height, temperature,date or time.\n",
    "\n",
    "Examples of where the gamma distribution is used include; modeling the times to failure of electronic components, forecasting rainfall amounts in mm for a location at select time interval and to study waiting times in a call center.\n",
    "\n",
    "Let's work through an example to demonstrate how to manipulate the parameters."
   ]
  },
  {
   "cell_type": "code",
   "execution_count": null,
   "metadata": {},
   "outputs": [],
   "source": [
    "# Case 1: Change in shape parameter with no change in scale parameter\n",
    "#Initializing the parameters for 3 Standard Gamma distributions (gamma1, gamma2 & gamma3) \n",
    "# Adapted from https://appliedmachinelearning.blog/2018/08/31/lets-talk-about-numeric-distributions-python/ & (Rocscience 2018)\n",
    "shape = 1 # This distribution’s shape occurs when the mean m is less than the standard deviation s (Rocscience 2018)\n",
    "shape2 = 0.5 # This distribution’s shape occurs when the occurs when the mean is equal to the standard deviation (Rocscience 2018)\n",
    "shape3 = 2 # This distribution’s shape occurs when the mean m is greater than the standard deviation s (Rocscience 2018)\n",
    "scale = 1 # When scale = 1 it is known as the standard Gamma distribution (Rocscience, 2018)\n",
    "size = 50000\n",
    "plt.subplots(figsize=(10,5))\n",
    "np.random.seed(seed=32)\n",
    "gamma1 = np.random.gamma(shape, scale, size)\n",
    "gamma2 = np.random.gamma(shape2, scale, size)\n",
    "gamma3 = np.random.gamma(shape3, scale, size)\n",
    "sns.distplot(pd.DataFrame(gamma1),label=\"| α | = 1\").set_title('Plots of Standard Gamma Distributions')\n",
    "sns.distplot(pd.DataFrame(gamma2),label=\"| α | = 0.5\")\n",
    "sns.distplot(pd.DataFrame(gamma3),label=\"| α | = 2\")\n",
    "plt.legend()\n",
    "fig=plot.get_figure()"
   ]
  },
  {
   "cell_type": "markdown",
   "metadata": {},
   "source": [
    "We can infer from above graph that with change in the shape parameter, leads to a change in the skewness of the distribution."
   ]
  },
  {
   "cell_type": "code",
   "execution_count": null,
   "metadata": {},
   "outputs": [],
   "source": [
    "# Case2: Change in scale parameter with no change in shape parameter\n",
    "#Initializing the parameters for 3 Standard Gamma distributions (gamma1, gamma2 & gamma3) \n",
    "# Adapted from https://appliedmachinelearning.blog/2018/08/31/lets-talk-about-numeric-distributions-python/ & (Rocscience 2018)\n",
    "shape = 1 # This distribution’s shape occurs when the mean m is less than the standard deviation s (Rocscience 2018)\n",
    "scale1 = 1 # When scale = 1 it is known as the standard Gamma distribution (Rocscience, 2018)\n",
    "scale2 = 2 # \n",
    "scale3 = 3 # | β | = 3 \n",
    "size = 50000\n",
    "plt.subplots(figsize=(10,5))\n",
    "np.random.seed(seed=32)\n",
    "gamma4 = np.random.gamma(shape, scale1, size)\n",
    "gamma5 = np.random.gamma(shape, scale2, size)\n",
    "gamma6 = np.random.gamma(shape, scale3, size)\n",
    "sns.distplot(pd.DataFrame(gamma4),label=\"| α | = 1 | β | = 1\").set_title('Plots of Non Standard Gamma Distributions')\n",
    "sns.distplot(pd.DataFrame(gamma5),label=\"| α | = 1 | β | = 2\")\n",
    "sns.distplot(pd.DataFrame(gamma6),label=\"| α | = 1 | β | = 3\")\n",
    "plt.legend()\n",
    "fig=plot.get_figure()"
   ]
  },
  {
   "cell_type": "markdown",
   "metadata": {},
   "source": [
    "The above graph shows that when there is a change in the scale parameter, the tails of the distribution became stretched with no change in skewness."
   ]
  },
  {
   "cell_type": "markdown",
   "metadata": {},
   "source": [
    "## How and Why Do We Use Seeds in Generating Pseudo-random Numbers\n",
    "\n",
    "*Paraphrase - Sharpsight 2019 - We use np.random.seed when we need to generate random numbers or mimic random processes in NumPy.Computers are generally deterministic, so it’s very difficult to create truly “random” numbers on a computer. Computers get around this by using pseudo-random number generators.These pseudo-random number generators are algorithms that produce numbers that appear random, but are not really random.In order to work properly, pseudo-random number generators require a starting input. We call this starting input a “seed.” The code np.random.seed(0) enables you to provide a seed (i.e., the starting input) for NumPy’s pseudo-random number generator.NumPy then uses the seed and the pseudo-random number generator in conjunction with other functions from the numpy.random namespace to produce certain types of random outputs.Ultimately, creating pseudo-random numbers this way leads to repeatable output, which is good for testing and code sharing.*"
   ]
  },
  {
   "cell_type": "code",
   "execution_count": null,
   "metadata": {},
   "outputs": [],
   "source": [
    "# Generate a random number between zero and one using the NumPy random random function\n",
    "# Adapted from Sharpsight (2019)\n",
    "np.random.seed(0)\n",
    "np.random.random()"
   ]
  },
  {
   "cell_type": "code",
   "execution_count": null,
   "metadata": {},
   "outputs": [],
   "source": []
  },
  {
   "cell_type": "code",
   "execution_count": null,
   "metadata": {},
   "outputs": [],
   "source": []
  },
  {
   "cell_type": "code",
   "execution_count": null,
   "metadata": {},
   "outputs": [],
   "source": []
  },
  {
   "cell_type": "markdown",
   "metadata": {},
   "source": [
    "## References\n",
    "1. McLoughlin, I (2019) *Introduction to numpy.random video* [Online] Available at: https://web.microsoftstream.com/video/ea6519e9-f7ed-444c-9b25-d855dfaa363a [Accessed 19 October 2019].\n",
    "1. Sharp Sight (2019) *NUMPY RANDOM SEED EXPLAINED* [Online] Available at: https://www.sharpsightlabs.com/blog/numpy-random-seed/ [Accessed 19 October 2019].\n",
    "1. The SciPy community (2019) *Random sampling (numpy.random)* [Online] Available at: https://docs.scipy.org/doc/numpy/reference/random/index.html [Accessed 20 October 2019].\n",
    "1. Compute Hope (2019) *Pseudo-random* [Online] Available at: https://www.computerhope.com/jargon/p/pseudo-random.htm [Accessed 20 October 2019].\n",
    "1. Wolfram Research (2019) *Pseudorandom Number* [Online] Available at: http://mathworld.wolfram.com/PseudorandomNumber.html [Accessed 20 October 2019].\n",
    "1. Rubin, J.M. (2011) *Can a computer generate a truly random number?* [Online] Available at: https://engineering.mit.edu/engage/ask-an-engineer/can-a-computer-generate-a-truly-random-number/ [Accessed 20 October 2019].\n",
    "1. The SciPy community (2019) *Random sampling (numpy.random)* [Online] Available at: https://docs.scipy.org/doc/numpy/reference/random/index.html [Accessed 20 October 2019].\n",
    "1. Blokhin, A (2015) *When is it better to use systematic over simple random sampling?* [Online] Available at: https://www.investopedia.com/ask/answers/071615/when-it-better-use-systematic-over-simple-random-sampling.asp [Accessed 27 October 2019].\n",
    "1. Sharp Sight (2019) *HOW TO USE NUMPY RANDOM NORMAL IN PYTHON* [Online] Available at: https://www.sharpsightlabs.com/blog/numpy-random-normal/ [Accessed 1 November 2019].\n",
    "1. Wikipedia (2019) *Average human height by country* [Online] Available at: https://en.wikipedia.org/wiki/Average_human_height_by_country [Accessed 1 November 2019].\n",
    "1. The SciPy community (2018) *numpy.random.normal* [Online] Available at: https://docs.scipy.org/doc/numpy-1.14.0/reference/generated/numpy.random.normal.html#numpy.random.normal [Accessed 1 November 2019].\n",
    "1. Frost, J (2018) *Normal Distribution in Statistics* [Online] Available at: https://statisticsbyjim.com/basics/normal-distribution/ [Accessed 1 November 2019].\n",
    "1. Jephos249 (2018) *What does the np.random.binomial function return?* [Online] Available at: https://discuss.codecademy.com/t/what-does-the-np-random-binomial-function-return/361162 [Accessed 2 November 2019].\n",
    "1. The SciPy community (2018) *numpy.random.binomial* [Online] Available at: https://docs.scipy.org/doc/numpy-1.14.0/reference/generated/numpy.random.binomial.html#numpy.random.binomial [Accessed 2 November 2019].\n",
    "1. cmdline (2018) *Simulating Coin Toss Experiment in Python with NumPy* [Online] Available at: https://cmdlinetips.com/2018/12/simulating-coin-toss-experiment-with-binomial-random-numbers-using-numpy/ [Accessed 2 November 2019].\n",
    "1. Kundu, U (2018) *Lets’ talk about numeric distributions : Python* [Online] Available at: https://appliedmachinelearning.blog/2018/08/31/lets-talk-about-numeric-distributions-python/ [Accessed 3 November 2019].\n",
    "1. The Pennsylvania State University (2018) *Poisson Sampling* [Online] Available at: https://newonlinecourses.science.psu.edu/stat504/node/57/ [Accessed 3 November 2019].\n",
    "1. Koehrsen (2019) *The Poisson Distribution and Poisson Process Explained* [Online] Available at: https://towardsdatascience.com/the-poisson-distribution-and-poisson-process-explained-4e2cb17d459 [Accessed 3 November 2019].\n",
    "1. Minitab (2019) *What are categorical, discrete, and continuous variables?* [Online] Available at: https://support.minitab.com/en-us/minitab-express/1/help-and-how-to/modeling-statistics/regression/supporting-topics/basics/what-are-categorical-discrete-and-continuous-variables/ [Accessed 3 November 2019].\n",
    "1. Rocscience (2018) *Gamma Distribution* [Online] Available at: https://www.rocscience.com/help/swedge/swedge/Gamma_Distribution.htm [Accessed 3 November 2019]..\n",
    "1. Chen, J (2019) *What is Uniform Distribution?* [Online] Available at: https://www.investopedia.com/terms/u/uniform-distribution.asp [Accessed 5 November 2019].\n",
    "1. Rocscience (2018) *Gamma Distribution* [Online] Available at: https://www.rocscience.com/help/swedge/swedge/Gamma_Distribution.htm [Accessed 3 November 2019]."
   ]
  }
 ],
 "metadata": {
  "kernelspec": {
   "display_name": "Python 3",
   "language": "python",
   "name": "python3"
  },
  "language_info": {
   "codemirror_mode": {
    "name": "ipython",
    "version": 3
   },
   "file_extension": ".py",
   "mimetype": "text/x-python",
   "name": "python",
   "nbconvert_exporter": "python",
   "pygments_lexer": "ipython3",
   "version": "3.7.1"
  }
 },
 "nbformat": 4,
 "nbformat_minor": 2
}
