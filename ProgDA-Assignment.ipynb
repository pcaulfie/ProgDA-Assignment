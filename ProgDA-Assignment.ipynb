{
 "cells": [
  {
   "cell_type": "markdown",
   "metadata": {},
   "source": [
    "# Assignment 2019 - Programming for Data Analysis"
   ]
  },
  {
   "cell_type": "markdown",
   "metadata": {},
   "source": [
    "## Introduction\n",
    "The following assignment concerns the numpy.random package in Python 3. I have created a Jupyter notebook explaining the use of the package, including detailed explanations of six of the distributions provided for in the package.\n",
    "\n",
    "### Problem statement\n",
    "There are four distinct tasks carried out in my Jupyter notebook.\n",
    "\n",
    "* Explain the overall purpose of the package.\n",
    "* Explain the use of the “Simple random data” and “Permutations” functions.\n",
    "* Explain the use and purpose of at least five “Distributions” functions.\n",
    "* Explain the use of seeds in generating pseudo-random numbers.\n",
    "\n",
    "### About My Jupyter Notebook \n",
    "There are five main sections in this Jupyter Notebook. In each section, I describe a set of NumPy Random functions and outline the objective of each function. I suggest some sample use cases where the function may be used. I also demonstrate each function using examples to illustrate how the function is used.  \n",
    "\n",
    "## Table of Contents\n",
    "\n",
    "- [1. Overview of NumPy Random Package](#overview)\n",
    "    - [1.1 Why Are Random Numbers Needed](#why)\n",
    "- [2. Introduction to NumPy Simple Random Data Functions](#simple)\n",
    "    - [2.1 NumPy Random Rand Function](#rand)\n",
    "    - [2.2 NumPy Random Randn Function](#randn)\n",
    "    - [2.3 NumPy Random Randint Function](#randint)\n",
    "    - [2.4 NumPy Random Random Function](#random)\n",
    "    - [2.5 NumPy Random Choice Function](#choice)\n",
    "- [3. Introduction to NumPy Random Permutations Functions](#permutations)\n",
    "    - [3.1 NumPy Random Shuffle Function](#shuffle)\n",
    "    - [3.2 NumPy Random Permutation Function](#permutation)\n",
    "- [4. Introduction to NumPy Random Distributions Functions](#distributions)\n",
    "    - [4.1 NumPy Random Normal Function](#normal)\n",
    "    - [4.2 NumPy Random Uniform Function](#uniform)\n",
    "    - [4.3 NumPy Random Binomial Function](#binomial)\n",
    "    - [4.4 NumPy Random Poisson Function](#poisson)\n",
    "    - [4.5 NumPy Random Gamma Function](#gamma)\n",
    "    - [4.6 NumPy Random Pareto Function](#pareto)\n",
    "- [5. How and Why Do We Use Seeds in Generating Pseudo-random Numbers](#pseudo)\n",
    "    - [5.1 NumPy Random Seed Function](#seed)\n",
    "- [6. References](#references)"
   ]
  },
  {
   "cell_type": "markdown",
   "metadata": {},
   "source": [
    "## 1. Overview of NumPy Random Package <a id='overview'></a>\n",
    "    \n",
    "McLoughlin (2019) describes the numpy.random package as a sub-package of the NumPy package in Python. The package contains algorithms to generate pseudo-random numbers (Sharpsight, 2019). According to The SciPy community (2019), the numpy.random package generates pseudo-random numbers using a combination of a bit generator and a random generator. The bit generator creates sequences of values and the random generator transforms these sequences into statistical distributions. "
   ]
  },
  {
   "cell_type": "markdown",
   "metadata": {},
   "source": [
    "### 1.1 Why Are Random Numbers Needed <a id='why'></a>\n",
    "\n",
    "Peter (2018) outlines some of the important applications of Random Numbers. \n",
    "\n",
    "1. Random Numbers have unique statistical properties which are important in the fields of statistcis, data analysis and machine learning.  \n",
    "    * Independence - the current value of a random variable has no relation with the previous values.\n",
    "    * Uniformity - each item has an equal probability of being chosen. \n",
    "   These properties ensure that you want to avoid any bias by the data analyst. \n",
    "1. Random numbers can be used to simulate real world problems. This is important benefit where time and budgets are limited, assuming that the random sampling technique is based on a sound understanding of the existing system. \n",
    "    * For example, if you assume that the lifespan of a lightbulb has a normal distribution, we can use random numbers to generate the lifespan of 1000 bulbs following a normal distribution. This is much faster and cheaper than trying to conduct a live experiment with 1000 bulbs.\n",
    "1. There is a wide varierty of algorithms (functions) available which makes it possible for the data analyst to generate random numbers possessing specific properties that are be identical to the field of study, and fit the data type (discrete or continuous variables).\n",
    "\n",
    "I will present some of these functions in more detail in the next few sections."
   ]
  },
  {
   "cell_type": "markdown",
   "metadata": {},
   "source": [
    "## 2. Introduction to NumPy Simple Random Data Functions <a id='simple'></a>\n",
    "\n",
    "The NumPy simple random data functions are used to generate discrete sequences of random values selected at random from a given population where each item has an equal probability of being chosen. NumPy simple random data functions use Python NumPy Random  library which is a pseudo-random number generator.  \n",
    "\n",
    "According to The SciPy Community (2019), there are 10 different NumPy Random Simple Random Data Functions: \n",
    "\n",
    "* NumPy Random Rand Function\n",
    "* NumPy Random Randn Function\n",
    "* NumPy Random Randint Function\n",
    "* NumPy Random Random Function\n",
    "* NumPy Random Random_Intergers Function\n",
    "* NumPy Random Random_Sample Function\n",
    "* NumPy Random Randf Function\n",
    "* NumPy Random Sample Function\n",
    "* NumPy Random Choice Function\n",
    "* NumPy Random Bytes Function\n",
    "\n",
    "To better understand these functions and how they are used, I have detailed examples of five on the functions which show a broad range of use cases."
   ]
  },
  {
   "cell_type": "markdown",
   "metadata": {},
   "source": [
    "### 2.1 NumPy Random Rand Function <a id='rand'></a>\n",
    "The numpy.randon.rand() function creates an array in a specific shape of random values taken from a uniform distribution between 0 & 1 (Onlinecoursetutorials.com, 2019)."
   ]
  },
  {
   "cell_type": "code",
   "execution_count": 48,
   "metadata": {},
   "outputs": [
    {
     "name": "stdout",
     "output_type": "stream",
     "text": [
      "\n",
      "\n",
      "1D Array filled with random values between 0 :1  : \n",
      " [0.91651298 0.7020422  0.93006818 0.46719891 0.55360675]\n",
      "\n",
      "\n",
      "2D Array filled with random values between 0 :1  : \n",
      " [[0.95387885 0.37172566 0.53122945 0.10024663]\n",
      " [0.9543111  0.2761477  0.6061973  0.0610971 ]]\n",
      "\n",
      "\n",
      "3D Array filled with random values between 0 :1  : \n",
      " [[[0.97076124 0.72662394 0.3106694 ]\n",
      "  [0.24257751 0.99327076 0.38602761]\n",
      "  [0.9016162  0.68917288 0.01232531]]\n",
      "\n",
      " [[0.8646003  0.66684988 0.87971542]\n",
      "  [0.04171413 0.99509312 0.08117733]\n",
      "  [0.03436939 0.80766328 0.4861299 ]]\n",
      "\n",
      " [[0.5127269  0.24801947 0.71996074]\n",
      "  [0.56761578 0.49389955 0.18407272]\n",
      "  [0.10100217 0.26823847 0.75835538]]]\n"
     ]
    }
   ],
   "source": [
    "# Example of numpy.random.rand() function adapted from https://onlinecoursetutorials.com/numpy/numpy-random-rand-in-python/\n",
    "# Import numpy library\n",
    "import numpy as np\n",
    " \n",
    "# one dimensional array of 5 numbers between [0,1]\n",
    "d0 = 5 # Define shape parameters for numpy.random.rand() function \n",
    "array1D = np.random.rand(d0) # create array using shape parameters\n",
    "print(\"\\n\\n1D Array filled with random values between 0 :1  : \\n\", array1D); # print array with title\n",
    "\n",
    "# two dimensional arrays of 4 numbers between [0,1]\n",
    "d0 , d1 = 2 , 4 # Define shape parameters for numpy.random.rand() function \n",
    "array2D = np.random.rand(d0 , d1) # create array using shape parameters\n",
    "print(\"\\n\\n2D Array filled with random values between 0 :1  : \\n\", array2D); # print array with title\n",
    "\n",
    "# three dimensional array of three numbers\n",
    "d0 , d1, d2 = 3, 3, 3 # Define shape parameters for numpy.random.rand() function \n",
    "array3D = np.random.rand(d0 , d1, d2) # create array using shape parameters\n",
    "print(\"\\n\\n3D Array filled with random values between 0 :1  : \\n\", array3D); # print array with title"
   ]
  },
  {
   "cell_type": "markdown",
   "metadata": {},
   "source": [
    "### 2.2 NumPy Random Randn Function <a id='randn'></a>\n",
    "\n",
    "The numpy.random.randn() function generates an array in a specific shape of random values taken from a standard normal distribution between 0 & 1 (Onlinecoursetutorials.com, 2019)."
   ]
  },
  {
   "cell_type": "code",
   "execution_count": 49,
   "metadata": {},
   "outputs": [
    {
     "name": "stdout",
     "output_type": "stream",
     "text": [
      "\n",
      "\n",
      "1D Array filled with random values between 0 :1  : \n",
      " [-0.94460877 -1.34999677 -1.11622389 -0.54420143  0.83376521  0.65467155]\n",
      "\n",
      "\n",
      "2D Array filled with random values between 0 :1  : \n",
      " [[ 1.11955821  0.59898141 -1.13143572  0.13756436]\n",
      " [ 1.70273099  0.81941709  0.14320807  0.44660265]\n",
      " [-1.03308022  0.27412742 -0.10439285  0.21741572]]\n",
      "\n",
      "\n",
      "3D Array filled with random values between 0 :1  : \n",
      " [[[ 1.05545569 -0.63536326]\n",
      "  [ 0.03273097 -0.76655588]]\n",
      "\n",
      " [[ 0.87642044  1.96123013]\n",
      "  [-0.29333637  1.44620943]]\n",
      "\n",
      " [[-0.77888529 -0.9989939 ]\n",
      "  [-1.40856058  0.04793972]]]\n"
     ]
    }
   ],
   "source": [
    "# Example of numpy.random.randn() function adapted from https://www.geeksforgeeks.org/numpy-random-randn-python/\n",
    "# Import numpy library\n",
    "import numpy as np\n",
    " \n",
    "# one dimensional array of 6 numbers between [0,1]\n",
    "d0 = 6 # Define shape parameters for numpy.random.randn() function \n",
    "array1D = np.random.randn(d0) # create array using shape parameters\n",
    "print(\"\\n\\n1D Array filled with random values between 0 :1  : \\n\", array1D); # print array with title\n",
    "\n",
    "# two dimensional arrays of 3 sets of 4 numbers between [0,1]\n",
    "d0 , d1 = 3 , 4 # Define shape parameters for numpy.random.randn() function \n",
    "array2D = np.random.randn(d0 , d1) # create array using shape parameters\n",
    "print(\"\\n\\n2D Array filled with random values between 0 :1  : \\n\", array2D); # print array with title\n",
    "\n",
    "# three dimensional array of 2 sets of two numbers numbers\n",
    "d0 , d1, d2 = 3, 2, 2 # Define shape parameters for numpy.random.randn() function \n",
    "array3D = np.random.randn(d0 , d1, d2) # create array using shape parameters\n",
    "print(\"\\n\\n3D Array filled with random values between 0 :1  : \\n\", array3D); # print array with title"
   ]
  },
  {
   "cell_type": "markdown",
   "metadata": {},
   "source": [
    "### 2.3 NumPy Random Randint Function <a id='randint'></a>\n",
    "The numpy.random.randint() function returns random integers taken from a specified range in a discrete uniform distribution (Onlinecoursetutorials.com, 2019)."
   ]
  },
  {
   "cell_type": "code",
   "execution_count": 50,
   "metadata": {},
   "outputs": [
    {
     "name": "stdout",
     "output_type": "stream",
     "text": [
      "\n",
      "One Random number between 1 and 18 is [2]\n",
      "\n",
      "Two Random numbers between -15 and -3 are [-9 -9]\n",
      "\n",
      "Three Random numbers between -6 and 6 are [ 2  5 -1]\n"
     ]
    }
   ],
   "source": [
    "# Example of numpy.random.randint() function adapted from https://www.geeksforgeeks.org/python-randint-function/\n",
    "# Import numpy library\n",
    "import numpy as np\n",
    "  \n",
    "# Generates 1 random number between a given positive range using parameters low and high\n",
    "low, high, size = (1 , 18 , 1) # Define parameters for numpy.random.randint() function\n",
    "r1 = np.random.randint(low, high, size) # create array using parameters\n",
    "print(\"\\nOne Random number between 1 and 18 is % s\" % (r1)) # print array with title\n",
    "\n",
    "# Generates 2 random number between two given negative range using parameters low and high \n",
    "low, high, size = (-15 , -3 , 2) # Define parameters for numpy.random.randint() function\n",
    "r2 = np.random.randint(-15, -3, 2) # create array using parameters\n",
    "print(\"\\nTwo Random numbers between -15 and -3 are % s\" % (r2)) # print array with title\n",
    "  \n",
    "# Generates 2 random number between a positive and a negative range using parameters low and high\n",
    "low, high, size = (-6 , 6 , 3) # Define parameters for numpy.random.randint() function\n",
    "r3 = np.random.randint(low, high, size) # create array using parameters\n",
    "print(\"\\nThree Random numbers between -6 and 6 are % s\" % (r3)) # print array with title"
   ]
  },
  {
   "cell_type": "markdown",
   "metadata": {},
   "source": [
    "### 2.4 NumPy Random Random Function <a id='random'></a>\n",
    "The numpy.random.random() function is used to generate random floating-point numbers from a continuous uniform distribution in the range [0.0, 1.0] (Onlinecoursetutorials.com, 2019)."
   ]
  },
  {
   "cell_type": "code",
   "execution_count": 51,
   "metadata": {},
   "outputs": [
    {
     "name": "stdout",
     "output_type": "stream",
     "text": [
      "\n",
      "Output 1D Array filled with 2 random floats : \n",
      " [0.32023313 0.93620318]\n",
      "\n",
      "Output 2D Array filled with 3 random floats : \n",
      " [[0.33699349 0.10146928 0.69204589]\n",
      " [0.8463351  0.09210797 0.81621074]]\n",
      "\n",
      "Output 3D Array filled with 2 sets of 4 random floats : \n",
      " [[[0.04837605 0.27818379 0.9989685  0.67236227]\n",
      "  [0.18233031 0.93149941 0.23157876 0.89637742]]\n",
      "\n",
      " [[0.83194536 0.50527148 0.73727049 0.22692994]\n",
      "  [0.23164428 0.8397207  0.58753182 0.27654893]]\n",
      "\n",
      " [[0.71215647 0.62247431 0.48744067 0.18932881]\n",
      "  [0.13159877 0.06154788 0.20605359 0.80406385]]]\n"
     ]
    }
   ],
   "source": [
    "## Example of numpy.random.random() function adapted from https://www.geeksforgeeks.org/random-sampling-in-numpy-random-function/\n",
    "  \n",
    "# importing numpy \n",
    "import numpy as np \n",
    "\n",
    "# one dimensional array of 2 floating point numbers between [0.00,1.00] \n",
    "size = 2 # Define parameters for numpy.random.random() function\n",
    "arr1 = np.random.random(size) # create array using parameters\n",
    "print (\"\\nOutput 1D Array filled with 2 random floats : \\n\", (arr1)) # print array with title\n",
    "\n",
    "# 2 dimensional array of 3 floating point numbers between [0.00,1.00] \n",
    "size = (2 , 3) # Define parameters for numpy.random.random() function\n",
    "arr2 = np.random.random(size) # create array using parameters\n",
    "print (\"\\nOutput 2D Array filled with 3 random floats : \\n\", (arr2)) # print array with title\n",
    "\n",
    "# 3 dimensional array of 2 sets of 4 floating point numbers between [0.00,1.00] \n",
    "size = (3, 2, 4) # Define parameters for numpy.random.random() function\n",
    "arr3 = np.random.random(size) # create array using parameters\n",
    "print (\"\\nOutput 3D Array filled with 2 sets of 4 random floats : \\n\", (arr3)) # print array with title"
   ]
  },
  {
   "cell_type": "markdown",
   "metadata": {},
   "source": [
    "### 2.5 NumPy Random Choice Function <a id='choice'></a>\n",
    "The numpy.random.choice() function returns random numbers from a given sequence of numbers (Onlinecoursetutorials.com, 2019)."
   ]
  },
  {
   "cell_type": "code",
   "execution_count": 52,
   "metadata": {},
   "outputs": [
    {
     "name": "stdout",
     "output_type": "stream",
     "text": [
      "\n",
      " The number which was picked at random from the list is : 6\n"
     ]
    }
   ],
   "source": [
    "# Example of numpy.random.choice() function adapted from https://www.geeksforgeeks.org/python-numbers-choice-function/ \n",
    "  \n",
    "import numpy as np # import numpy as np\n",
    "  \n",
    "# Choose random number from a list and print value \n",
    "list = [1, 2, 3, 4, 5, 6] # Define parameters for numpy.random.choice() function\n",
    "pick=np.random.choice(list) # picks a random number from the list - saves value as variable = pick \n",
    "print(\"\\n The number which was picked at random from the list is : % s\" % (pick)) # prints value of pick"
   ]
  },
  {
   "cell_type": "markdown",
   "metadata": {},
   "source": [
    "## 3. Introduction to NumPy Random Permutations Functions <a id='permuations'></a>\n",
    "Permutations and combinations, the various ways in which objects from a set may be selected, generally without replacement, to form subsets. This selection of subsets is called a permutation when the order of selection is a factor, a combination when order is not a factor. By considering the ratio of the number of desired subsets to the number of all possible subsets for many games of chance in the 17th century, the French mathematicians Blaise Pascal and Pierre de Fermat gave impetus to the development of combinatorics and probability theory.\n",
    "\n",
    "* shuffle(x)\tModify a sequence in-place by shuffling its contents.\n",
    "* permutation(x)\tRandomly permute a sequence, or return a permuted range."
   ]
  },
  {
   "cell_type": "markdown",
   "metadata": {},
   "source": [
    "### 3.1 NumPy Random Shuffle Function <a id='shuffle'></a>\n",
    "\n",
    "The NumPy random shuffle function modifies a sequence in-place by shuffling its contents (The SciPy Community, 2019).\n",
    "\n",
    "The sequence can be a list or an array."
   ]
  },
  {
   "cell_type": "code",
   "execution_count": 53,
   "metadata": {},
   "outputs": [
    {
     "name": "stdout",
     "output_type": "stream",
     "text": [
      "Original list :  [5, 10, 15, 20, 25, 30, 35, 40, 45, 50]\n",
      "List after 1st shuffle :  [50, 35, 10, 25, 30, 20, 45, 5, 15, 40]\n",
      "List after 2nd shuffle :  [45, 35, 30, 40, 20, 15, 50, 5, 25, 10]\n"
     ]
    }
   ],
   "source": [
    "# Example of numpy.random.shuffle() function - adapted from https://www.tutorialspoint.com/python/number_shuffle.htm\n",
    "\n",
    "import numpy as np # Import numpy library\n",
    "\n",
    "# Reshuffle list of 10 numbers using numpy.random.shuffle() function\n",
    "list = [5, 10, 15, 20, 25, 30, 35, 40, 45, 50]; # define list of values\n",
    "print(\"Original list : \",  list) # print list\n",
    "np.random.shuffle(list) # reshuffle values found in list\n",
    "print(\"List after 1st shuffle : \",  list) # print list\n",
    "np.random.shuffle(list) # reshuffle values found in list\n",
    "print(\"List after 2nd shuffle : \",  list) # print list"
   ]
  },
  {
   "cell_type": "code",
   "execution_count": 54,
   "metadata": {},
   "outputs": [
    {
     "name": "stdout",
     "output_type": "stream",
     "text": [
      "\n",
      "Original list : \n",
      " [[1 2 3]\n",
      " [4 5 6]\n",
      " [7 8 9]]\n",
      "\n",
      "List after 1st shuffle : \n",
      " [[7 8 9]\n",
      " [1 2 3]\n",
      " [4 5 6]]\n",
      "\n",
      "List after 2nd shuffle : \n",
      " [[7 8 9]\n",
      " [1 2 3]\n",
      " [4 5 6]]\n"
     ]
    }
   ],
   "source": [
    "# Example of numpy.random.shuffle() function - \n",
    "# adapted from https://docs.scipy.org/doc/numpy-1.14.0/reference/generated/numpy.random.shuffle.html\n",
    "\n",
    "import numpy as np # Import numpy library\n",
    "\n",
    "# Reshuffle list of 9 numbers using numpy.random.shuffle() function\n",
    "list = [1, 2, 3, 4, 5, 6, 7, 8, 9]; # define list of values\n",
    "# Create 2D array of 3 sets of 3 numbers\n",
    "arr = np.reshape(list,(3, 3))\n",
    "print(\"\\nOriginal list : \\n\", (arr)) # print list\n",
    "np.random.shuffle(arr) # reshuffle values found in list\n",
    "print(\"\\nList after 1st shuffle : \\n\", (arr)) # print list\n",
    "np.random.shuffle(arr) # reshuffle values found in list\n",
    "print(\"\\nList after 2nd shuffle : \\n\", (arr)) # print list"
   ]
  },
  {
   "cell_type": "markdown",
   "metadata": {},
   "source": [
    "### 3.2 NumPy Random Permutation Function <a id='permutation'></a>\n",
    "The numpy.random.permutation() function is used to randomly permute a sequence, or return a permuted range. (The SciPy Community, 2019). The function has the following parameters:\n",
    "\n",
    "Input `a`, where a contains integers or the values of a which can be converted to an array( lists, tuples, tuples, tuples of tuples, tuples of lists and ndarrays)  \n",
    "\n",
    "Outputs:\n",
    "    * If `a` is an integer, randomly permute using ``np.arange(x)`` function.\n",
    "    * If `a` is an array, make a copy and shuffle the elements randomly.\n",
    "    \n",
    "Lets look at an example below."
   ]
  },
  {
   "cell_type": "code",
   "execution_count": 55,
   "metadata": {},
   "outputs": [
    {
     "name": "stdout",
     "output_type": "stream",
     "text": [
      "\n",
      "Randomly Permute Array created using np.arrange(x) function : \n",
      " [array([1, 2, 3, 4, 0, 6, 5])]\n"
     ]
    }
   ],
   "source": [
    "# Example of numpy.random.permutation() function - \n",
    "# adapted from https://docs.scipy.org/doc/numpy-1.14.0/reference/generated/numpy.random.shuffle.html\n",
    "\n",
    "import numpy as np # Import numpy library\n",
    "\n",
    "# a` is an integer, randomly permute using ``np.arange(x)`` function.\n",
    "a = 7 # a is an integer ; value is 7\n",
    "perm = np.random.permutation(a) # randomly shuffle the values in array 'perm' which was created using np.arange(x)`` function\n",
    "print(\"\\nRandomly Permute Array created using np.arrange(x) function : \\n\", ([perm])) # print array"
   ]
  },
  {
   "cell_type": "code",
   "execution_count": 56,
   "metadata": {},
   "outputs": [
    {
     "name": "stdout",
     "output_type": "stream",
     "text": [
      "\n",
      "Original list : \n",
      " [1, 2, 3, 4, 5, 6, 7, 8, 9]\n",
      "\n",
      "1st Permutation : \n",
      " [array([9, 1, 7, 3, 2, 8, 5, 6, 4])]\n",
      "\n",
      "2nd Permutation : \n",
      " [array([1, 5, 9, 8, 7, 3, 6, 2, 4])]\n"
     ]
    }
   ],
   "source": [
    "# Example of numpy.random.permutation() function - \n",
    "# adapted from https://docs.scipy.org/doc/numpy-1.14.0/reference/generated/numpy.random.shuffle.html\n",
    "\n",
    "import numpy as np # Import numpy library\n",
    "\n",
    "# Resuffle array of 9 numbers using numpy.random.shuffle() function\n",
    "arr = [1, 2, 3, 4, 5, 6, 7, 8, 9] # define list as an array,\n",
    "print(\"\\nOriginal list : \\n\", (arr)) # print array\n",
    "perm = np.random.permutation(arr) # arr is an array, make a copy and shuffle the elements randomly\n",
    "print(\"\\n1st Permutation : \\n\", ([perm])) # print array\n",
    "perm = np.random.permutation(arr) # arr is an array, make a copy and shuffle the elements randomly\n",
    "print(\"\\n2nd Permutation : \\n\", ([perm])) # print array"
   ]
  },
  {
   "cell_type": "markdown",
   "metadata": {},
   "source": [
    "## 4. Introduction to NumPy Random Distributions Functions <a id='distributions'></a>\n",
    "\n",
    "The NumPy Random Distributions Functions creates sequences of random values in statistical distributions, such as the normal, binomial or poisson. \n",
    "\n",
    "The NumPy Random Distributions Functions are different iterations of systematic sampling techniques which involves sampling involves selecting items from an ordered population using a skip or sampling interval. The population is ordered using various statistical distributions.\n",
    "\n",
    "Blokhim (2015) suggests that the use of systematic sampling techniques are more appropriate compared to simple random sampling when there is no pattern in the data, and you want to avoid any bias by the data analyst.\n",
    "\n",
    "The SciPy Community (2019) outlines 35 different NumPy Random Distributions Functions, the full list is available at https://docs.scipy.org/doc/numpy-1.14.0/reference/routines.random.html\n",
    "\n",
    "Lets look at 5 of the functions in more detail. The function I selected are shown below:  \n",
    "\n",
    "* NumPy Random Normal Function\n",
    "* NumPy Random Uniform Function\n",
    "* Numpy Random Binomial Function\n",
    "* NumPy Random Poisson Function\n",
    "* NumPy Random Gamma Function\n"
   ]
  },
  {
   "cell_type": "markdown",
   "metadata": {},
   "source": [
    "### 4.1 NumPy Random Normal Function <a id='normal'></a>\n",
    "According to The SciPy community (2018), the NumPy random normal function is used to generate random samples drawn from the Gaussian distribution, commonly known as the normal distribution. \"Normally distributed data is shaped sort of like a bell, so it’s often called the “bell curve.”\"(Sharp Sight 2019).\n",
    "\n",
    "The SciPy community (2018) suggest that normal distributions are most commonly found in nature. To quote Frost (2018) \"the normal distribution is the most important probability distribution in statistics\". \n",
    "\n",
    "In conclusion, the  NumPy random normal function should be used to generate samples where the data you are trying to approximate follows the normal distribution, examples include height, weight, blood pressure and test scores. \n",
    "\n",
    "Lets look at an example."
   ]
  },
  {
   "cell_type": "code",
   "execution_count": 57,
   "metadata": {},
   "outputs": [],
   "source": [
    "# Example of numPy.random.normal() function; visualize a sample distribution of heights, using data on average human heights.\n",
    "# Example uses data on heights of Irish males aged 20-49 reported in Wikipedia (2019). \n",
    "# Adapted from https://stackoverflow.com/q/51175871\n",
    "\n",
    "# Import Libraries\n",
    "import numpy as np\n",
    "import matplotlib.pyplot as plt"
   ]
  },
  {
   "cell_type": "code",
   "execution_count": 58,
   "metadata": {},
   "outputs": [
    {
     "data": {
      "image/png": "[encoded data removed]",
      "text/plain": [
       "<Figure size 864x576 with 1 Axes>"
      ]
     },
     "metadata": {},
     "output_type": "display_data"
    }
   ],
   "source": [
    "# Generate ndarray of \"heights\" drawn from a sample of 10000 random numbers taken from a normal distribution \n",
    "# adapted from https://www.sharpsightlabs.com/blog/numpy-random-normal/\n",
    "\n",
    "# Define paramters\n",
    "loc = 177  # refers to mean adult male height in cms\n",
    "scale = 6.3 # refers to height standard deviation in cms\n",
    "size = 10000 # to generate 10000 values\n",
    "\n",
    "# Create an array using defined parameters using random.normal() function\n",
    "heights = [(np.random.normal(loc, scale , size))]\n",
    "\n",
    "#plot histogram using this data\n",
    "num_bins = 50 #number of bins used for histogram\n",
    "count, bins, ignored = plt.hist(heights, num_bins, density = False) \n",
    "\n",
    "# Plot Parameters\n",
    "plt.style.use('seaborn') # use seaborn theme\n",
    "plt.rcParams['figure.figsize'] = (12, 8) # resize the figure\n",
    "plt.xlabel('Height') # Create Label for x Axis\n",
    "plt.ylabel('Frequency') # Create Label for y Axis\n",
    "\n",
    "# Create Title for Plot - adding annotation for mean and standard deviation\n",
    "plt.title('Histogram of Heights: $\\mu=177.5$, $\\sigma=6.3$')\n",
    "plt.show() # show plot"
   ]
  },
  {
   "cell_type": "markdown",
   "metadata": {},
   "source": [
    "The distribution of heights, when plotted correspond to the bell curve shape.  "
   ]
  },
  {
   "cell_type": "markdown",
   "metadata": {},
   "source": [
    "### 4.2 NumPy Random Uniform Function <a id='uniform'></a>\n",
    "\n",
    "The function np.random.uniform() is used to generate a random sample which follows the uniform continuous distribution.\n",
    "\n",
    "The uniform continuous distribution is also know as rectangular distribution, which is a probability distribution where all outcomes are equally likely to occur; each trial has the same probability of success, Chen (2019). \n",
    "\n",
    "This is like the spinner example. Consider throwing a dart at a dart board. Assuming that all directions are equally likely, the angle of deflection from the x-axis drawn through the bullseye should be uniformly distributed between 0 and 360∘ or 0 and 2π. Rescaling would produce a uniform 0, 1. \n",
    "\n",
    "According to Minitab (2019) continuous variables are variables that have \"an infinite number of values between any two values\" They are usually measured on a scale such as weight, height, temperature,date or time.\n",
    "\n",
    "The properties of the uniform distribution are:\n",
    "* There is no skewness present in the distribution,  Since the datapoints within the interval [a,b] are equally likely, so there is no skewness present in the distribution\n",
    "* the probability associated with each data points within a fixed interval [a,b] is equal. (Kundu, 2018)\n",
    "\n",
    "This distribution is defined by two parameters, a and b:\n",
    "\n",
    "Uniform distributions are probability distributions with equally likely outcomes."
   ]
  },
  {
   "cell_type": "code",
   "execution_count": 59,
   "metadata": {},
   "outputs": [
    {
     "name": "stdout",
     "output_type": "stream",
     "text": [
      "\n",
      "Displays an array of 30 random floating point numbers between 0 :1  : \n",
      " [0.19855553 0.47060847 0.26699393 0.90025122 0.95280445 0.68927399\n",
      " 0.54465227 0.4731867  0.35652585 0.55796127 0.13096089 0.12503975\n",
      " 0.91499616 0.83126107 0.5003013  0.24846163 0.01520909 0.22764377\n",
      " 0.58716914 0.3467747  0.79231205 0.6690624  0.29260972 0.1976936\n",
      " 0.61193191 0.1211947  0.40949653 0.28568013 0.44411538 0.19728123]\n"
     ]
    }
   ],
   "source": [
    "# Example 1: generate 30 random variables, uniformly distributed between -1 and 1 \n",
    "# https://www.geo.fu-berlin.de/en/v/soga/Basics-of-statistics/Continous-Random-Variables/Continuous-Uniform-Distribution/Continuous-Uniform-Distribution-in-R/index.html\n",
    "\n",
    "# Define paramters for the function\n",
    "a = 0 # a is the minimum\n",
    "b = 1 # b is the maximum\n",
    "size = 30 # size is the number of samples\n",
    "\n",
    "# create a dataframe called uni, which contains an array of 30 random floating point numbers between 0 and 1.\n",
    "uni =np.random.uniform(a, b, size)\n",
    "print(\"\\nDisplays an array of 30 random floating point numbers between 0 :1  : \\n\", uni);\n",
    "# Displays the results."
   ]
  },
  {
   "cell_type": "code",
   "execution_count": 60,
   "metadata": {},
   "outputs": [
    {
     "name": "stderr",
     "output_type": "stream",
     "text": [
      "C:\\Users\\SESA87346\\AppData\\Local\\Continuum\\anaconda3\\lib\\site-packages\\scipy\\stats\\stats.py:1713: FutureWarning: Using a non-tuple sequence for multidimensional indexing is deprecated; use `arr[tuple(seq)]` instead of `arr[seq]`. In the future this will be interpreted as an array index, `arr[np.array(seq)]`, which will result either in an error or a different result.\n",
      "  return np.add.reduce(sorted[indexer] * weights, axis=axis) / sumval\n"
     ]
    },
    {
     "data": {
      "image/png": "[encoded data removed]",
      "text/plain": [
       "<Figure size 1080x720 with 1 Axes>"
      ]
     },
     "metadata": {},
     "output_type": "display_data"
    }
   ],
   "source": [
    "# Example 2: Spin The Wheel. Each time you spin the lottery wheel, you have an equal chance of the wheel stopping in any of the 100 segments.\n",
    "# The circumference of the wheel is measure on a scale from 0 to 360 degrees, each segment is 3.6 degrees wide.  \n",
    "# One segment which is located from 0 to 3.6 degrees contains the 500,000 jackpot\n",
    "# What is the probability of spinning the wheel and landing on the jackpot segment?\n",
    "\n",
    "# Solution adapted from https://appliedmachinelearning.blog/2018/08/31/lets-talk-about-numeric-distributions-python/\n",
    "# Import libraries as needed\n",
    "import pandas as pd\n",
    "import matplotlib.pyplot as plt\n",
    "import seaborn as sns\n",
    "\n",
    "#Define the parameters a, b and sample size\n",
    "a = 0 # a is the minimum 0 degrees on a wheel\n",
    "b = 360 # b is the maximum 360 degree on a wheel\n",
    "size = 1000 # sample size is the number of spins\n",
    "\n",
    "# create a dataframe called unidist, \n",
    "unidist=np.random.uniform(a, b, size)\n",
    "\n",
    "# Create a figure to visualize the distribution\n",
    "plt.subplots(figsize=(15,10)) # resize plot to 15 x 10\n",
    "plt.xlabel('Degrees') # Label x Axis \n",
    "plt.ylabel('Probability') # Label y Axis \n",
    "# create histogram called plot from dataframe unidist, set titles equal to value of a & b\n",
    "plot=sns.distplot(pd.DataFrame(unidist)).set_title('Uniform Distribution with $a$=%.1f and $b$=%.1f'%(a,b))\n",
    "fig=plot.get_figure() # show plot"
   ]
  },
  {
   "cell_type": "code",
   "execution_count": 61,
   "metadata": {},
   "outputs": [
    {
     "name": "stdout",
     "output_type": "stream",
     "text": [
      "\n",
      "Probability of Spin the Wheel stopping on the €500,000 segment is :  0.60%\n"
     ]
    }
   ],
   "source": [
    "# Estimate what is the probability of Spin the Wheel stopping on the €500,000 segment \n",
    "# Solution adapted from https://github.com/WillKoehrsen/Data-Analysis/blob/master/poisson/poisson.ipynb\n",
    "# create variable called prob which is the probability of the wheel stopping between 0 and 3.6 degrees\n",
    "prob = (unidist <= 3.6).mean()\n",
    "# print answer & format result as % with 2 places decimals - adapted from https://stackoverflow.com/a/5306788\n",
    "print(\"\\nProbability of Spin the Wheel stopping on the €500,000 segment is : \", f\"{prob:.2%}\");\n",
    "# Answer"
   ]
  },
  {
   "cell_type": "markdown",
   "metadata": {},
   "source": [
    "### 4.3 NumPy Random Binomial Function <a id='binomial'></a>\n",
    "The numpy.random.binomial function returns an array of random sample from a population using a binomial distribution based on the parameters, Jephos249 (2018):\n",
    "* n, where n is the number of trials or samples per observation.\n",
    "* p, where p is the probability of success of each trial. P is a floating point number which is  >= 0 and <=1.\n",
    "* size, where size is the number of observations (ie experiments or tests conducted).\n",
    "\n",
    "The SciPy Community (2018) suggest that binomial distribution should be used instead of the normal distribution when \"the product p x n <=5, where p = population proportion estimate, and n = number of samples\". This function can be used to model real world processes which can be easily categorised into pass / fail trials. For example, when you toss a coin multiple times, how many times will it land on its head. Other use cases include the probability of success in oil exploration, estimating the number of defects in a production line or the odds of a penalty being saved in a football match.\n",
    "\n",
    "For example, cmdline (2018) suggests that the binomial function is appropriate function to use to simulate a coin toss experiment. Where n is the number of times you toss a coin, where the probability of getting head each coin toss is p. Assuming  you toss a coint 10 times, and you get 5 heads and 5 tails. Therefore the probability of getting head at each coin toss (p) is 5 / 10 = 0.5. To test if the binomial distribution should be used we multipy p x n ie 0.5 x 10 = 5, since p x n <=5, we can conclude that the binomial distribution should be used in this case.\n",
    "\n",
    "Lets look at the toin coss experiment."
   ]
  },
  {
   "cell_type": "code",
   "execution_count": 62,
   "metadata": {},
   "outputs": [
    {
     "name": "stdout",
     "output_type": "stream",
     "text": [
      "\n",
      "Number of heads observed if you toss a coin 10 times is :  2\n"
     ]
    }
   ],
   "source": [
    "# This program simulates a toin coss experiment and returns the number of heads observed if you toss a coin 10 times.\n",
    "# Adapted from https://cmdlinetips.com/2018/12/simulating-coin-toss-experiment-with-binomial-random-numbers-using-numpy/\n",
    "\n",
    "# Define Parameters for random.binomial() function\n",
    "n = 10 # the number of times coin is tossed in one experiment ie 10 times\n",
    "p = 0.5 # probability of heads with a fair coin\n",
    "\n",
    "# Create array called 'heads' using random.binomial() function and defined parameters\n",
    "# Adapted from https://discuss.codecademy.com/t/what-does-the-np-random-binomial-function-return/361162\n",
    "heads = np.random.binomial(n, p) \n",
    "# # Print 'heads' - array of results\n",
    "print(\"\\nNumber of heads observed if you toss a coin 10 times is : \", heads);\n",
    "# Answer"
   ]
  },
  {
   "cell_type": "code",
   "execution_count": 63,
   "metadata": {},
   "outputs": [
    {
     "name": "stdout",
     "output_type": "stream",
     "text": [
      "\n",
      "Array displaying the number of heads observed from 100 randomly selected coint toss experiments : \n",
      " [4 3 2 8 7 5 4 5 4 6 5 4 5 3 5 5 2 5 4 5 4 4 5 5 5 4 6 4 6 4 7 7 5 3 3 6 4\n",
      " 4 3 4 3 6 3 5 4 5 6 4 3 7 6 4 7 7 6 4 5 3 4 6 5 5 5 6 5 3 4 3 6 8 5 4 6 4\n",
      " 6 7 7 3 7 5 8 5 4 8 7 6 6 5 3 6 5 7 5 5 5 4 3 6 5 5]\n"
     ]
    }
   ],
   "source": [
    "# This program tests how reliable the coin toss experiment is when you repeat it the experiment multiple times\n",
    "# Adapted from https://cmdlinetips.com/2018/12/simulating-coin-toss-experiment-with-binomial-random-numbers-using-numpy/\n",
    "\n",
    "# Define parameters for the function\n",
    "n = 10 # the number of times coin is tossed in one experiment ie 10 times\n",
    "p = 0.5 # probability of heads, with fair coin\n",
    "size = 100 # number of experiments)\n",
    "\n",
    "# Create array called heads using random.binomial() function and defined parameters\n",
    "# Adapted from https://discuss.codecademy.com/t/what-does-the-np-random-binomial-function-return/361162\n",
    "heads = np.random.binomial(n, p, size) \n",
    "# Print 'heads' - array of results\n",
    "print(\"\\nArray displaying the number of heads observed from 100 randomly selected coint toss experiments : \\n\", heads);\n",
    "# The result returned is the number of heads returned from 100 randomly selected experiments from the distribution."
   ]
  },
  {
   "cell_type": "code",
   "execution_count": 64,
   "metadata": {},
   "outputs": [
    {
     "name": "stdout",
     "output_type": "stream",
     "text": [
      "\n",
      "Probability of returning 4 heads when coin toss experiment is conducted 100 times is :  15.00%\n"
     ]
    }
   ],
   "source": [
    "# Estimate what is the probability of returning 4 heads when the coin toss experiment is conducted 100 times \n",
    "# adapted fromhttps://docs.scipy.org/doc/numpy-1.14.0/reference/generated/numpy.random.binomial.html#numpy.random.binomial\n",
    "\n",
    "# Probability = count of the number of times that each experiment returns 4 heads, divided by the number of experiments experiments (100)\n",
    "prob = sum(np.random.binomial(10, 0.5, size=100) ==4)/100\n",
    "# print result & format result as % with 2 places decimals - adapted from https://stackoverflow.com/a/5306788\n",
    "print(\"\\nProbability of returning 4 heads when coin toss experiment is conducted 100 times is : \", f\"{prob:.2%}\");\n",
    "# Answer"
   ]
  },
  {
   "cell_type": "markdown",
   "metadata": {},
   "source": [
    "### 4.4 NumPy Random Poisson Function <a id='poisson'></a>\n",
    "The numpy.random.poisson function generates random samples using the poisson distribution (Penn State University 2018). Kundu (2018) describes the poisson distribution as a distribution which models the probability of the frequency of an event occurring in a fixed period of time or space. \n",
    "\n",
    "The numpy.random.poisson function is more appropriate to use instead of the numpy.random.binomial function, when the number of trials (n) taken from an observation is very large and where the probability the event occurring (p) is very small of each trial, such that *p* x *n* becomes lambda| λ | (constant) (Kundu, 2018).\n",
    " \n",
    "An example of this scenario can be found in a call center, where the number of calls received in a week is very large and the time pattern when calls arrive is random, but the probability of receiving a call at any given minute is very small, so that the average number of calls per minute is constant. \n",
    "\n",
    "Let's work through an example."
   ]
  },
  {
   "cell_type": "code",
   "execution_count": 65,
   "metadata": {},
   "outputs": [
    {
     "data": {
      "image/png": "[encoded data removed]",
      "text/plain": [
       "<Figure size 864x576 with 1 Axes>"
      ]
     },
     "metadata": {},
     "output_type": "display_data"
    }
   ],
   "source": [
    "# Poisson Distribution - adapted fom https://github.com/WillKoehrsen/Data-Analysis/blob/master/poisson/poisson.ipynb\n",
    "\n",
    "# Import libraries\n",
    "import seaborn as sns\n",
    "import pandas as pd\n",
    "\n",
    "#Define the parameters lam & size - adapted from https://docs.scipy.org/doc/numpy-1.14.0/reference/generated/numpy.random.poisson.html#numpy.random.poisson\n",
    "calls_per_second = 1/15 # on average 1 call received every 15 seconds\n",
    "seconds = 60 # interval length = 60 seconds\n",
    "size = 10000 # number of observations\n",
    "lam = calls_per_second * seconds # Define lam paramter: number of events/interval * interval length (Koehrsen, 2019)\n",
    "\n",
    "# Create dataframe 'calls' using random.poisson() function and defined parameters\n",
    "calls = np.random.poisson(lam, size)\n",
    "\n",
    "# Plot probability distribution as a histogram - adapted from https://appliedmachinelearning.blog/2018/08/31/lets-talk-about-numeric-distributions-python/\n",
    "plot=sns.distplot(pd.DataFrame(calls)).set_title('Poisson Distribution with $\\lambda$=%.1f and $k$=%.1f'%(lam,size))\n",
    "fig=plot.get_figure() # display plot\n"
   ]
  },
  {
   "cell_type": "code",
   "execution_count": 66,
   "metadata": {},
   "outputs": [
    {
     "name": "stdout",
     "output_type": "stream",
     "text": [
      "\n",
      "Probability of receiving more than 7 calls in 60 seconds is :  11.53%\n"
     ]
    }
   ],
   "source": [
    "# Estimate probability of receiving more than 7 calls in 60 seconds.\n",
    "# Solution adapted from https://github.com/WillKoehrsen/Data-Analysis/blob/master/poisson/poisson.ipynb\n",
    "\n",
    "# recall function\n",
    "calls = np.random.poisson(lam, size)\n",
    "\n",
    "# return probability that random distribution will have a mean >=8\n",
    "prob = (calls >= 7).mean()\n",
    "\n",
    "# print result & format result as % with 2 places decimals - adapted from https://stackoverflow.com/a/5306788\n",
    "print(\"\\nProbability of receiving more than 7 calls in 60 seconds is : \", f\"{prob:.2%}\");\n",
    "# Answer"
   ]
  },
  {
   "cell_type": "markdown",
   "metadata": {},
   "source": [
    "### 4.5 NumPy Random Gamma Function <a id='gamma'></a>\n",
    "The numpy.random.gamma function is used to generate random samples which follows gamma distribution. The gamma distribution is commonly used to model continous variables, where the variables are numeric, greater than zero and have skewed distributions. The gamma distribution is useful because of the flexibility of its parameters: shape and scale. The scale parameter determines where range of the distribution and the shape parameter controls how the distribution will look. (Kundu, 2018)\n",
    "\n",
    "According to Minitab (2019) continuous variables are variables that have \"an infinite number of values between any two values\"  They are usually measured on a scale such as weight, height, temperature,date or time.\n",
    "\n",
    "Examples of where the gamma distribution is used include; modeling the times to failure of electronic components, forecasting rainfall amounts in mm for a location at select time interval and to study waiting times in a call center.\n",
    "\n",
    "Let's work through an example to demonstrate how to manipulate the parameters."
   ]
  },
  {
   "cell_type": "code",
   "execution_count": 67,
   "metadata": {},
   "outputs": [
    {
     "data": {
      "image/png": "[encoded data removed]",
      "text/plain": [
       "<Figure size 720x360 with 1 Axes>"
      ]
     },
     "metadata": {},
     "output_type": "display_data"
    }
   ],
   "source": [
    "# Case 1: Change in shape parameter with no change in scale parameter\n",
    "# Adapted from https://appliedmachinelearning.blog/2018/08/31/lets-talk-about-numeric-distributions-python/ & (Rocscience 2018)\n",
    "\n",
    "# Define the parameters for 3 Standard Gamma distributions (gamma1, gamma2 & gamma3) \n",
    "shape = 1 # This distribution’s shape occurs when the mean m is less than the standard deviation s (Rocscience 2018)\n",
    "shape2 = 0.5 # This distribution’s shape occurs when the occurs when the mean is equal to the standard deviation (Rocscience 2018)\n",
    "shape3 = 2 # This distribution’s shape occurs when the mean m is greater than the standard deviation s (Rocscience 2018)\n",
    "scale = 1 # When scale = 1 it is known as the standard Gamma distribution (Rocscience, 2018)\n",
    "size = 50000\n",
    "\n",
    "# Create 3 dataframes representing 3 Standard Gamma distributions (gamma1, gamma2 & gamma3) \n",
    "np.random.seed(seed=32) # use random seed generator\n",
    "gamma1 = np.random.gamma(shape, scale, size) # create dataframe gamma1 using parameters defined above\n",
    "gamma2 = np.random.gamma(shape2, scale, size) # create dataframe gamma2 using parameters defined above\n",
    "gamma3 = np.random.gamma(shape3, scale, size) # create dataframe gamma3 using parameters defined above\n",
    "\n",
    "# Create a figure to visualize the distribution\n",
    "plt.subplots(figsize=(10,5))\n",
    "\n",
    "# Plot histogram of each dataframe using seaborn distplot function overlayed on the one figure\n",
    "sns.distplot(pd.DataFrame(gamma1),label=\"| α | = 1\").set_title('Plots of Standard Gamma Distributions')\n",
    "sns.distplot(pd.DataFrame(gamma2),label=\"| α | = 0.5\")\n",
    "sns.distplot(pd.DataFrame(gamma3),label=\"| α | = 2\")\n",
    "plt.legend() # display labels in the legend\n",
    "fig=plot.get_figure() # display plot"
   ]
  },
  {
   "cell_type": "markdown",
   "metadata": {},
   "source": [
    "We can infer from above graph that with change in the shape parameter, leads to a change in the skewness of the distribution."
   ]
  },
  {
   "cell_type": "code",
   "execution_count": 68,
   "metadata": {},
   "outputs": [
    {
     "data": {
      "image/png": "[encoded data removed]",
      "text/plain": [
       "<Figure size 720x360 with 1 Axes>"
      ]
     },
     "metadata": {},
     "output_type": "display_data"
    }
   ],
   "source": [
    "# Case2: Change in scale parameter with no change in shape parameter\n",
    "# Adapted from https://appliedmachinelearning.blog/2018/08/31/lets-talk-about-numeric-distributions-python/ & (Rocscience 2018)\n",
    "\n",
    "# Define the parameters for 3 Standard Gamma distributions (gamma4, gamma5 & gamma6) \n",
    "shape = 1 # | α | = 1 - This distribution’s shape occurs when the mean m is less than the standard deviation s (Rocscience 2018)\n",
    "scale1 = 1 # When scale | β | = 1, it is known as the standard Gamma distribution (Rocscience, 2018)\n",
    "scale2 = 2 # | β | = 2 \n",
    "scale3 = 3 # | β | = 3 \n",
    "size = 50000\n",
    "\n",
    "# Create 3 dataframes representing 3 Standard Gamma distributions (gamma4, gamma5 & gamma6)\n",
    "np.random.seed(seed=32) # use random seed generator \n",
    "gamma4 = np.random.gamma(shape, scale1, size) # create dataframe gamma4 using parameters defined above\n",
    "gamma5 = np.random.gamma(shape, scale2, size) # create dataframe gamma5 using parameters defined above\n",
    "gamma6 = np.random.gamma(shape, scale3, size) # create dataframe gamma6 using parameters defined above\n",
    "\n",
    "# Create a figure to visualize the distribution\n",
    "plt.subplots(figsize=(10,5))\n",
    "\n",
    "# Plot histogram of each dataframe using seaborn distplot function overlayed on the one figure\n",
    "sns.distplot(pd.DataFrame(gamma4),label=\"| α | = 1 | β | = 1\").set_title('Plots of Non Standard Gamma Distributions')\n",
    "sns.distplot(pd.DataFrame(gamma5),label=\"| α | = 1 | β | = 2\")\n",
    "sns.distplot(pd.DataFrame(gamma6),label=\"| α | = 1 | β | = 3\")\n",
    "plt.legend()\n",
    "fig=plot.get_figure()"
   ]
  },
  {
   "cell_type": "markdown",
   "metadata": {},
   "source": [
    "The above graph shows that when there is a change in the scale parameter, the tails of the distribution became stretched with no change in skewness."
   ]
  },
  {
   "cell_type": "markdown",
   "metadata": {},
   "source": [
    "### 4.6 NumPy Random Pareto Function <a id='pareto'></a>\n",
    "The numpy.random.pareto function is used to generate random samples which follows the pareto distribution. \n",
    "The Pareto distribution is also known as the “80-20 rule”. In this distribution, 80% percent of the variables account for 20% of the range of outcomes, while the other 20% of the variables cover the remaining 80% of the range. (SciPy Community, 2019).\n"
   ]
  },
  {
   "cell_type": "code",
   "execution_count": 69,
   "metadata": {},
   "outputs": [
    {
     "data": {
      "image/png": "[encoded data removed]",
      "text/plain": [
       "<Figure size 864x288 with 2 Axes>"
      ]
     },
     "metadata": {},
     "output_type": "display_data"
    }
   ],
   "source": [
    "# Example of pareto distribution - adapted from https://docs.scipy.org/doc/numpy-1.15.1/reference/generated/numpy.random.pareto.html\n",
    "\n",
    "# Define the parameters; shape and sample size\n",
    "a = 3. # Shape\n",
    "m = 2. # Mode\n",
    "size = 1000 # sample size \n",
    "\n",
    "# create a dataframe called n, using parameters \n",
    "n=np.random.pareto(a, size)*m\n",
    "\n",
    "\n",
    "# Plot Histogram - adapted from https://www.southampton.ac.uk/~fangohr/training/python/notebooks/Matplotlib.html\n",
    "fig, axes = plt.subplots(1, 2, figsize=(12,4)) # Create a figure and a set of subplots on one row with 2 columns\n",
    "\n",
    "# figure 1 - Pareto Distribution\n",
    "axes[0].hist(n,bins=100) # Compute and draw the histogram of x, bin size = 100\n",
    "axes[0].set_title(\"Pareto Distribution\") # Set title\n",
    "axes[0].set_xlim((min(n), max(n))) # Set Limits to x axis\n",
    "\n",
    "# figure 2 - Cumulative Pareto Distribution\n",
    "axes[1].hist(n, cumulative=True, bins=100) # Compute and draw the cumulative histogram of x, bin size = 100\n",
    "axes[1].set_title(\"Cumulative Pareto Distribution\")\n",
    "axes[1].set_xlim((min(n), max(n)));"
   ]
  },
  {
   "cell_type": "markdown",
   "metadata": {},
   "source": [
    "## 5. How and Why Do We Use Seeds in Generating Pseudo-random Numbers <a id='pseudo'></a>\n",
    "\n",
    "Before I explain what are seeds and why we use them, let me first explain what a pseudo-random number is. According to Wolfram Research (2019), a pseudo-random number is the name given to a computer-generated random number. Computer Hope (2019) points out that computer generated random numbers are not properly random, because computers are deterministic by design. This means that, when a computer is working properly, it's behaviour is predictable, not random. Rubin (2011) cites an article at MIT’s School of Engineering, which clarifies the meaning of the term deterministic as: “if you ask the same question you’ll get the same answer every time.” To quote Sharpsight (2019) \"give a computer the same input, it will produce the same output.\" \n",
    "\n",
    "### 5.1 NumPy Random Seed Function <a id='seed'></a>\n",
    "Accordinto to Sharpsight (2019), to resolve the problem of generating “random” numbers, computers use algorithms called Pseudo-Random Number Generators which produce numbers which appear to be random. In order for the algorithms to work properly, the pseudo-random number generators require a starting input which is called a “seed\". \n",
    "\n",
    "The numpy.random.seed() function sets the random seed which is the starting input for other numpy.random functions to produce random outputs. Generating pseudo-random numbers using numpy.random.seed() function, ensures reproducible outputs, which is good for the integrity of testing and transparency in the code sharing.*Sharpsight (2019)\n",
    "\n",
    "Lets work through some examples to explain this better.."
   ]
  },
  {
   "cell_type": "code",
   "execution_count": 70,
   "metadata": {},
   "outputs": [
    {
     "name": "stdout",
     "output_type": "stream",
     "text": [
      "\n",
      " Array filled with 30 random numbers between 0 : 9  : \n",
      " [8 8 6 2 8 7 2 1 5 4 4 5 7 3 6 4 3 7 6 1 3 5 8 4 6 3 2 0 4 2]\n"
     ]
    }
   ],
   "source": [
    "# Example 1: Generate array of random numbers using NumPy random seed and randint functions to see if there is any pattern.\n",
    "# Generate some pseudo-random number - adapted from https://www.sharpsightlabs.com/blog/numpy-random-seed/\n",
    "\n",
    "# Import NumPy Library as np\n",
    "import numpy as np\n",
    "np.random.seed(2) # use random seed generator \n",
    "# Generate 30 random integers from a range between 0 and 9\n",
    "low, high, size = (0, 9, 30) # # Define range and size parameters for numpy.random.randint() function\n",
    "s = np.random.randint(low, high, size) # Create an array 's' using parameters  \n",
    "print(\"\\n Array filled with 30 random numbers between 0 : 9  : \\n\", s); # print array 's' with title"
   ]
  },
  {
   "cell_type": "markdown",
   "metadata": {},
   "source": [
    "The numbers appear to be random and dont follow any pattern."
   ]
  },
  {
   "cell_type": "code",
   "execution_count": 71,
   "metadata": {},
   "outputs": [
    {
     "name": "stdout",
     "output_type": "stream",
     "text": [
      "\n",
      " Array filled with 30 random numbers between 0 : 9 the same seed : \n",
      " [8 8 6 2 8 7 2 1 5 4 4 5 7 3 6 4 3 7 6 1 3 5 8 4 6 3 2 0 4 2]\n"
     ]
    }
   ],
   "source": [
    "# Example 2: Demonstrate that using same seed ensures that results are repeatable,\n",
    "# Run the same code again using the same seed as in example 1. - adapted from https://www.sharpsightlabs.com/blog/numpy-random-seed/\n",
    "\n",
    "# Re-run code again\n",
    "np.random.seed(2) # use random seed generator with exact same seed\n",
    "# Generate 30 random integers from a range between 0 and 9\n",
    "low, high, size = (0, 9, 30) # # Define range and sample size parameters for numpy.random.randint() function\n",
    "s = np.random.randint(low, high, size) # Create an array 's' using range and size parameters \n",
    "print(\"\\n Array filled with 30 random numbers between 0 : 9 the same seed : \\n\", s); # print array 's' with title"
   ]
  },
  {
   "cell_type": "markdown",
   "metadata": {},
   "source": [
    "The result proves that if you run the same code for np.random.randintagain with the exact same seed ( i.e 2), you get the same output. "
   ]
  },
  {
   "cell_type": "code",
   "execution_count": 72,
   "metadata": {},
   "outputs": [
    {
     "name": "stdout",
     "output_type": "stream",
     "text": [
      "\n",
      " Array filled with 30 random numbers between 0 : 9 the a different seed : \n",
      " [4 6 3 3 7 7 7 8 8 7 6 4 0 7 0 7 6 3 5 8 8 7 5 0 0 2 8 6 4 7]\n"
     ]
    }
   ],
   "source": [
    "# Example 3: Demonstrate that the output of a numpy.random function will depend on the seed that you use.\n",
    "# Run the same code again using the different seed  - adapted from https://www.sharpsightlabs.com/blog/numpy-random-seed/\n",
    "\n",
    "# Re-run code again\n",
    "np.random.seed(7) # use random seed generator with a different seed\n",
    "# Generate 30 random integers from a range between 0 and 9\n",
    "low, high, size = (0, 9, 30) # # Define range and sample size parameters for numpy.random.randint() function\n",
    "s = np.random.randint(low, high, size) # Create an array 's' using parameters \n",
    "print(\"\\n Array filled with 30 random numbers between 0 : 9 the a different seed : \\n\", s); # print array with title"
   ]
  },
  {
   "cell_type": "markdown",
   "metadata": {},
   "source": [
    "The result proves that if you run the same code for np.random.randint again, but with a different seed, it will produce a different output."
   ]
  },
  {
   "cell_type": "code",
   "execution_count": 73,
   "metadata": {},
   "outputs": [
    {
     "name": "stdout",
     "output_type": "stream",
     "text": [
      "\n",
      " Array filled with 30 random numbers between 0 : 9 with no seed : \n",
      " [3 3 8 3 0 1 0 0 6 7 7 3 0 7 7 7 0 5 4 3 1 3 1 3 4 3 1 5 1 2]\n"
     ]
    }
   ],
   "source": [
    "# Example 4: Demonstrate that if you don’t set a seed with numpy.random.seed, NumPy will set one for you.\n",
    "# Run the same code again without any seed - adapted from https://www.sharpsightlabs.com/blog/numpy-random-seed/\n",
    "\n",
    "# Re-run code again\n",
    "# Generate 30 random integers from a range between 0 and 9\n",
    "low, high, size = (0, 9, 30) # # Define range and sample size parameters for numpy.random.randint() function\n",
    "r = np.random.randint(low, high, size) # Create an array 'r' using parameters \n",
    "print(\"\\n Array filled with 30 random numbers between 0 : 9 with no seed : \\n\", r); # print array 'r' with title"
   ]
  },
  {
   "cell_type": "markdown",
   "metadata": {},
   "source": [
    "The results show the if you don’t set a seed with numpy.random.seed, NumPy will set one for you. The results are random and independent of other outputs which have gone before.  "
   ]
  },
  {
   "cell_type": "code",
   "execution_count": 74,
   "metadata": {},
   "outputs": [
    {
     "name": "stdout",
     "output_type": "stream",
     "text": [
      "\n",
      " Array filled with 30 random numbers between 0 : 9 with no seed : \n",
      " [3 2 2 5 7 3 0 3 4 5 3 0 4 8 6 7 2 7 3 8 6 6 5 6 5 7 1 5 4 4]\n"
     ]
    }
   ],
   "source": [
    "# Example 5: Demonstrate that the output of a numpy.random function will not be repeatable if no seed is used\n",
    "# Run the same code again without any seed - - adapted from https://www.sharpsightlabs.com/blog/numpy-random-seed/\n",
    "\n",
    "# Re-run code again\n",
    "# Generate 30 random integers from a range between 0 and 9\n",
    "low, high, size = (0, 9, 30) # # Define range and sample size parameters for numpy.random.randint() function\n",
    "r = np.random.randint(low, high, size) # Create an array named 'r' using parameters \n",
    "print(\"\\n Array filled with 30 random numbers between 0 : 9 with no seed : \\n\", r); # print array 'r' with title"
   ]
  },
  {
   "cell_type": "markdown",
   "metadata": {},
   "source": [
    "The output has changed even though the same code was run and there was no seed entered. This proves that, if you don’t set a seed, will not get repeatable outputs. In conclusion, while you dont have to use numpy.random.seed, its advisable to do so, in order to ensure your code has reproducible outputs."
   ]
  },
  {
   "cell_type": "markdown",
   "metadata": {},
   "source": [
    "## 6. References <a id='references'></a>\n",
    "1. McLoughlin, I (2019) *Introduction to numpy.random video* [Online] Available at: https://web.microsoftstream.com/video/ea6519e9-f7ed-444c-9b25-d855dfaa363a [Accessed 19 October 2019].\n",
    "1. Sharp Sight (2019) *NUMPY RANDOM SEED EXPLAINED* [Online] Available at: https://www.sharpsightlabs.com/blog/numpy-random-seed/ [Accessed 19 October 2019].\n",
    "1. The SciPy community (2019) *Random sampling (numpy.random)* [Online] Available at: https://docs.scipy.org/doc/numpy/reference/random/index.html [Accessed 20 October 2019].\n",
    "1. Compute Hope (2019) *Pseudo-random* [Online] Available at: https://www.computerhope.com/jargon/p/pseudo-random.htm [Accessed 20 October 2019].\n",
    "1. Wolfram Research (2019) *Pseudorandom Number* [Online] Available at: http://mathworld.wolfram.com/PseudorandomNumber.html [Accessed 20 October 2019].\n",
    "1. Rubin, J.M. (2011) *Can a computer generate a truly random number?* [Online] Available at: https://engineering.mit.edu/engage/ask-an-engineer/can-a-computer-generate-a-truly-random-number/ [Accessed 20 October 2019].\n",
    "1. The SciPy community (2019) *Random sampling (numpy.random)* [Online] Available at: https://docs.scipy.org/doc/numpy/reference/random/index.html [Accessed 20 October 2019].\n",
    "1. Blokhin, A (2015) *When is it better to use systematic over simple random sampling?* [Online] Available at: https://www.investopedia.com/ask/answers/071615/when-it-better-use-systematic-over-simple-random-sampling.asp [Accessed 27 October 2019].\n",
    "1. Sharp Sight (2019) *HOW TO USE NUMPY RANDOM NORMAL IN PYTHON* [Online] Available at: https://www.sharpsightlabs.com/blog/numpy-random-normal/ [Accessed 1 November 2019].\n",
    "1. Wikipedia (2019) *Average human height by country* [Online] Available at: https://en.wikipedia.org/wiki/Average_human_height_by_country [Accessed 1 November 2019].\n",
    "1. The SciPy community (2018) *numpy.random.normal* [Online] Available at: https://docs.scipy.org/doc/numpy-1.14.0/reference/generated/numpy.random.normal.html#numpy.random.normal [Accessed 1 November 2019].\n",
    "1. Frost, J (2018) *Normal Distribution in Statistics* [Online] Available at: https://statisticsbyjim.com/basics/normal-distribution/ [Accessed 1 November 2019].\n",
    "1. Jephos249 (2018) *What does the np.random.binomial function return?* [Online] Available at: https://discuss.codecademy.com/t/what-does-the-np-random-binomial-function-return/361162 [Accessed 2 November 2019].\n",
    "1. The SciPy community (2018) *numpy.random.binomial* [Online] Available at: https://docs.scipy.org/doc/numpy-1.14.0/reference/generated/numpy.random.binomial.html#numpy.random.binomial [Accessed 2 November 2019].\n",
    "1. cmdline (2018) *Simulating Coin Toss Experiment in Python with NumPy* [Online] Available at: https://cmdlinetips.com/2018/12/simulating-coin-toss-experiment-with-binomial-random-numbers-using-numpy/ [Accessed 2 November 2019].\n",
    "1. Onlinecoursetutorials.com (2019) *Numpy Tutorial* [Online] Available at: https://onlinecoursetutorials.com/numpy/ [Accessed 2 November 2019].\n",
    "1. Kundu, U (2018) *Lets’ talk about numeric distributions : Python* [Online] Available at: https://appliedmachinelearning.blog/2018/08/31/lets-talk-about-numeric-distributions-python/ [Accessed 3 November 2019].\n",
    "1. The Pennsylvania State University (2018) *Poisson Sampling* [Online] Available at: https://newonlinecourses.science.psu.edu/stat504/node/57/ [Accessed 3 November 2019].\n",
    "1. Koehrsen (2019) *The Poisson Distribution and Poisson Process Explained* [Online] Available at: https://towardsdatascience.com/the-poisson-distribution-and-poisson-process-explained-4e2cb17d459 [Accessed 3 November 2019].\n",
    "1. Minitab (2019) *What are categorical, discrete, and continuous variables?* [Online] Available at: https://support.minitab.com/en-us/minitab-express/1/help-and-how-to/modeling-statistics/regression/supporting-topics/basics/what-are-categorical-discrete-and-continuous-variables/ [Accessed 3 November 2019].\n",
    "1. Rocscience (2018) *Gamma Distribution* [Online] Available at: https://www.rocscience.com/help/swedge/swedge/Gamma_Distribution.htm [Accessed 3 November 2019]..\n",
    "1. Chen, J (2019) *What is Uniform Distribution?* [Online] Available at: https://www.investopedia.com/terms/u/uniform-distribution.asp [Accessed 5 November 2019].\n",
    "1. Peter, A (2018) *Random Numbers And Their Applications* [Online] Available at: https://analyticstraining.com/random-numbers-applications/ [Accessed 6 November 2019].\n"
   ]
  }
 ],
 "metadata": {
  "kernelspec": {
   "display_name": "Python 3",
   "language": "python",
   "name": "python3"
  },
  "language_info": {
   "codemirror_mode": {
    "name": "ipython",
    "version": 3
   },
   "file_extension": ".py",
   "mimetype": "text/x-python",
   "name": "python",
   "nbconvert_exporter": "python",
   "pygments_lexer": "ipython3",
   "version": "3.7.1"
  }
 },
 "nbformat": 4,
 "nbformat_minor": 2
}
